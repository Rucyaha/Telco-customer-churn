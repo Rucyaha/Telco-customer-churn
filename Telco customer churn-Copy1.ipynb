{
 "cells": [
  {
   "cell_type": "markdown",
   "id": "6c162394",
   "metadata": {},
   "source": [
    "## Project Title: Predicting Customer Churn: Uncovering Key Indicators and Retention Strategies\n"
   ]
  },
  {
   "cell_type": "markdown",
   "id": "b22afeae",
   "metadata": {},
   "source": [
    "## Introduction\n",
    "\n",
    "Customer churn, also known as customer attrition or customer turnover, refers to the percentage of customers who cease using a company's product or service within a given timeframe. Understanding and predicting customer churn is crucial for organizations as it directly impacts their profitability and growth. By identifying the factors that contribute to churn, businesses can develop effective retention strategies to mitigate this problem.\n",
    "\n",
    "In this project, our objective is to analyze a dataset comprising different customer attributes, including age, partner status, internet service provider, contract terms, and payment methods, among others. We aim to examine the correlation between these attributes and the probability of customer churn. By conducting an in-depth analysis, we can identify significant factors associated with churn and detect patterns that indicate a higher likelihood of customers leaving the organization. Additionally, we will leverage machine learning models to predict customer churn, allowing us to develop proactive strategies for retention based on these predictions. By combining our analysis with predictive modeling, we can gain valuable insights into customer behavior and enhance our ability to mitigate churn effectively."
   ]
  },
  {
   "cell_type": "markdown",
   "id": "11ecdb15",
   "metadata": {},
   "source": [
    "## Objectives\n",
    "\n",
    "1.Build a classification model to predict customer churn and assess the likelihood of a customer leaving the organization.\n",
    "\n",
    "2.Identify key indicators or factors that contribute to customer churn.\n",
    "\n",
    "3.Formulate effective retention strategies based on the identified indicators to mitigate customer attrition."
   ]
  },
  {
   "cell_type": "markdown",
   "id": "0848d2f6",
   "metadata": {},
   "source": [
    "## Hypothesis\n",
    "\n",
    "**Null Hypothesis**: There is no significant relationship between the various customer attributes and the likelihood of customer churn.\n",
    "\n",
    "**Alternatative Hypothesis**: There is a significant relationship between the various customer attributes and the likelihood of customer churn."
   ]
  },
  {
   "cell_type": "markdown",
   "id": "ccfdfac8",
   "metadata": {},
   "source": [
    "## Questions\n",
    "\n",
    "1.What are the key indicators of customer churn in this dataset?\n",
    "\n",
    "2.Is there any correlation between the type of internet service provider and customer churn?\n",
    "\n",
    "3.What is the relationship between contract terms and customer churn?\n",
    "\n",
    "4.Which payment method is associated with higher customer churn?\n",
    "\n",
    "5.How can the organization leverage payment methods, contract terms, and billing preferences to reduce churn?"
   ]
  },
  {
   "cell_type": "code",
   "execution_count": 1,
   "id": "e18638a8",
   "metadata": {
    "scrolled": true
   },
   "outputs": [
    {
     "name": "stdout",
     "output_type": "stream",
     "text": [
      "Defaulting to user installation because normal site-packages is not writeable\n",
      "Requirement already satisfied: pyodbc in c:\\programdata\\anaconda3\\lib\\site-packages (4.0.32)\n",
      "Note: you may need to restart the kernel to use updated packages.\n",
      "Defaulting to user installation because normal site-packages is not writeable\n",
      "Requirement already satisfied: python-dotenv in c:\\users\\wycliffe\\appdata\\roaming\\python\\python39\\site-packages (1.0.0)\n",
      "Note: you may need to restart the kernel to use updated packages.\n"
     ]
    }
   ],
   "source": [
    "%pip install pyodbc \n",
    "%pip install python-dotenv"
   ]
  },
  {
   "cell_type": "markdown",
   "id": "ea3831f9",
   "metadata": {},
   "source": [
    "## Importing python libraries"
   ]
  },
  {
   "cell_type": "code",
   "execution_count": 2,
   "id": "c5cbfcec",
   "metadata": {},
   "outputs": [],
   "source": [
    "import pandas as pd\n",
    "from dotenv import dotenv_values\n",
    "import warnings\n",
    "import numpy as np\n",
    "import matplotlib.pyplot as plt\n",
    "import seaborn as sns\n",
    "import sklearn\n",
    "from sklearn.impute import SimpleImputer\n",
    "from sklearn.model_selection import train_test_split, GridSearchCV\n",
    "from sklearn.preprocessing import OneHotEncoder, LabelEncoder, StandardScaler\n",
    "from imblearn.over_sampling import SMOTE\n",
    "from sklearn.neighbors import KNeighborsClassifier\n",
    "from sklearn.ensemble import RandomForestClassifier, GradientBoostingClassifier, AdaBoostClassifier\n",
    "from sklearn.metrics import accuracy_score, precision_score, recall_score, f1_score, fbeta_score\n",
    "import pickle\n",
    "\n",
    "warnings.filterwarnings('ignore')"
   ]
  },
  {
   "cell_type": "markdown",
   "id": "d64d7e9e",
   "metadata": {},
   "source": [
    "## Data Loading\n",
    "This dataset is a concatenation of three datasets extracted from different sources as follows:\n",
    "1. SQL Database.\n",
    "1. OneDrive.\n",
    "1. Github repository.\n"
   ]
  },
  {
   "cell_type": "code",
   "execution_count": null,
   "id": "1c3a0b99",
   "metadata": {},
   "outputs": [],
   "source": []
  },
  {
   "cell_type": "code",
   "execution_count": null,
   "id": "bba71776",
   "metadata": {},
   "outputs": [],
   "source": []
  },
  {
   "cell_type": "code",
   "execution_count": null,
   "id": "d5800274",
   "metadata": {},
   "outputs": [],
   "source": []
  },
  {
   "cell_type": "code",
   "execution_count": null,
   "id": "91b41da9",
   "metadata": {},
   "outputs": [],
   "source": []
  },
  {
   "cell_type": "code",
   "execution_count": 3,
   "id": "7a404f3c",
   "metadata": {},
   "outputs": [
    {
     "data": {
      "text/html": [
       "<div>\n",
       "<style scoped>\n",
       "    .dataframe tbody tr th:only-of-type {\n",
       "        vertical-align: middle;\n",
       "    }\n",
       "\n",
       "    .dataframe tbody tr th {\n",
       "        vertical-align: top;\n",
       "    }\n",
       "\n",
       "    .dataframe thead th {\n",
       "        text-align: right;\n",
       "    }\n",
       "</style>\n",
       "<table border=\"1\" class=\"dataframe\">\n",
       "  <thead>\n",
       "    <tr style=\"text-align: right;\">\n",
       "      <th></th>\n",
       "      <th>Unnamed: 0</th>\n",
       "      <th>customerID</th>\n",
       "      <th>gender</th>\n",
       "      <th>SeniorCitizen</th>\n",
       "      <th>Partner</th>\n",
       "      <th>Dependents</th>\n",
       "      <th>tenure</th>\n",
       "      <th>PhoneService</th>\n",
       "      <th>MultipleLines</th>\n",
       "      <th>InternetService</th>\n",
       "      <th>...</th>\n",
       "      <th>DeviceProtection</th>\n",
       "      <th>TechSupport</th>\n",
       "      <th>StreamingTV</th>\n",
       "      <th>StreamingMovies</th>\n",
       "      <th>Contract</th>\n",
       "      <th>PaperlessBilling</th>\n",
       "      <th>PaymentMethod</th>\n",
       "      <th>MonthlyCharges</th>\n",
       "      <th>TotalCharges</th>\n",
       "      <th>Churn</th>\n",
       "    </tr>\n",
       "  </thead>\n",
       "  <tbody>\n",
       "    <tr>\n",
       "      <th>0</th>\n",
       "      <td>0</td>\n",
       "      <td>7590-VHVEG</td>\n",
       "      <td>Female</td>\n",
       "      <td>0</td>\n",
       "      <td>True</td>\n",
       "      <td>False</td>\n",
       "      <td>1</td>\n",
       "      <td>False</td>\n",
       "      <td>NaN</td>\n",
       "      <td>DSL</td>\n",
       "      <td>...</td>\n",
       "      <td>False</td>\n",
       "      <td>False</td>\n",
       "      <td>False</td>\n",
       "      <td>False</td>\n",
       "      <td>Month-to-month</td>\n",
       "      <td>True</td>\n",
       "      <td>Electronic check</td>\n",
       "      <td>29.850000</td>\n",
       "      <td>29.850000381469727</td>\n",
       "      <td>False</td>\n",
       "    </tr>\n",
       "    <tr>\n",
       "      <th>1</th>\n",
       "      <td>1</td>\n",
       "      <td>5575-GNVDE</td>\n",
       "      <td>Male</td>\n",
       "      <td>0</td>\n",
       "      <td>False</td>\n",
       "      <td>False</td>\n",
       "      <td>34</td>\n",
       "      <td>True</td>\n",
       "      <td>False</td>\n",
       "      <td>DSL</td>\n",
       "      <td>...</td>\n",
       "      <td>True</td>\n",
       "      <td>False</td>\n",
       "      <td>False</td>\n",
       "      <td>False</td>\n",
       "      <td>One year</td>\n",
       "      <td>False</td>\n",
       "      <td>Mailed check</td>\n",
       "      <td>56.950001</td>\n",
       "      <td>1889.5</td>\n",
       "      <td>False</td>\n",
       "    </tr>\n",
       "    <tr>\n",
       "      <th>2</th>\n",
       "      <td>2</td>\n",
       "      <td>3668-QPYBK</td>\n",
       "      <td>Male</td>\n",
       "      <td>0</td>\n",
       "      <td>False</td>\n",
       "      <td>False</td>\n",
       "      <td>2</td>\n",
       "      <td>True</td>\n",
       "      <td>False</td>\n",
       "      <td>DSL</td>\n",
       "      <td>...</td>\n",
       "      <td>False</td>\n",
       "      <td>False</td>\n",
       "      <td>False</td>\n",
       "      <td>False</td>\n",
       "      <td>Month-to-month</td>\n",
       "      <td>True</td>\n",
       "      <td>Mailed check</td>\n",
       "      <td>53.849998</td>\n",
       "      <td>108.1500015258789</td>\n",
       "      <td>True</td>\n",
       "    </tr>\n",
       "    <tr>\n",
       "      <th>3</th>\n",
       "      <td>3</td>\n",
       "      <td>7795-CFOCW</td>\n",
       "      <td>Male</td>\n",
       "      <td>0</td>\n",
       "      <td>False</td>\n",
       "      <td>False</td>\n",
       "      <td>45</td>\n",
       "      <td>False</td>\n",
       "      <td>NaN</td>\n",
       "      <td>DSL</td>\n",
       "      <td>...</td>\n",
       "      <td>True</td>\n",
       "      <td>True</td>\n",
       "      <td>False</td>\n",
       "      <td>False</td>\n",
       "      <td>One year</td>\n",
       "      <td>False</td>\n",
       "      <td>Bank transfer (automatic)</td>\n",
       "      <td>42.299999</td>\n",
       "      <td>1840.75</td>\n",
       "      <td>False</td>\n",
       "    </tr>\n",
       "    <tr>\n",
       "      <th>4</th>\n",
       "      <td>4</td>\n",
       "      <td>9237-HQITU</td>\n",
       "      <td>Female</td>\n",
       "      <td>0</td>\n",
       "      <td>False</td>\n",
       "      <td>False</td>\n",
       "      <td>2</td>\n",
       "      <td>True</td>\n",
       "      <td>False</td>\n",
       "      <td>Fiber optic</td>\n",
       "      <td>...</td>\n",
       "      <td>False</td>\n",
       "      <td>False</td>\n",
       "      <td>False</td>\n",
       "      <td>False</td>\n",
       "      <td>Month-to-month</td>\n",
       "      <td>True</td>\n",
       "      <td>Electronic check</td>\n",
       "      <td>70.699997</td>\n",
       "      <td>151.64999389648438</td>\n",
       "      <td>True</td>\n",
       "    </tr>\n",
       "  </tbody>\n",
       "</table>\n",
       "<p>5 rows × 22 columns</p>\n",
       "</div>"
      ],
      "text/plain": [
       "   Unnamed: 0  customerID  gender  SeniorCitizen Partner Dependents  tenure  \\\n",
       "0           0  7590-VHVEG  Female              0    True      False       1   \n",
       "1           1  5575-GNVDE    Male              0   False      False      34   \n",
       "2           2  3668-QPYBK    Male              0   False      False       2   \n",
       "3           3  7795-CFOCW    Male              0   False      False      45   \n",
       "4           4  9237-HQITU  Female              0   False      False       2   \n",
       "\n",
       "  PhoneService MultipleLines InternetService  ... DeviceProtection  \\\n",
       "0        False           NaN             DSL  ...            False   \n",
       "1         True         False             DSL  ...             True   \n",
       "2         True         False             DSL  ...            False   \n",
       "3        False           NaN             DSL  ...             True   \n",
       "4         True         False     Fiber optic  ...            False   \n",
       "\n",
       "  TechSupport StreamingTV StreamingMovies        Contract PaperlessBilling  \\\n",
       "0       False       False           False  Month-to-month             True   \n",
       "1       False       False           False        One year            False   \n",
       "2       False       False           False  Month-to-month             True   \n",
       "3        True       False           False        One year            False   \n",
       "4       False       False           False  Month-to-month             True   \n",
       "\n",
       "               PaymentMethod MonthlyCharges        TotalCharges  Churn  \n",
       "0           Electronic check      29.850000  29.850000381469727  False  \n",
       "1               Mailed check      56.950001              1889.5  False  \n",
       "2               Mailed check      53.849998   108.1500015258789   True  \n",
       "3  Bank transfer (automatic)      42.299999             1840.75  False  \n",
       "4           Electronic check      70.699997  151.64999389648438   True  \n",
       "\n",
       "[5 rows x 22 columns]"
      ]
     },
     "execution_count": 3,
     "metadata": {},
     "output_type": "execute_result"
    }
   ],
   "source": [
    "df2=pd.read_csv('Telco-churn-second-2000.csv')\n",
    "df=pd.read_csv('LP2_Telco-churn-complete1.csv')\n",
    "df.head()"
   ]
  },
  {
   "cell_type": "markdown",
   "id": "aa2d7bad",
   "metadata": {},
   "source": [
    "## Exploratory Data Analysis(EDA)"
   ]
  },
  {
   "cell_type": "code",
   "execution_count": 4,
   "id": "453857bf",
   "metadata": {},
   "outputs": [
    {
     "data": {
      "text/plain": [
       "(5043, 22)"
      ]
     },
     "execution_count": 4,
     "metadata": {},
     "output_type": "execute_result"
    }
   ],
   "source": [
    "df.shape"
   ]
  },
  {
   "cell_type": "code",
   "execution_count": 5,
   "id": "2b5c56b1",
   "metadata": {},
   "outputs": [
    {
     "data": {
      "text/html": [
       "<div>\n",
       "<style scoped>\n",
       "    .dataframe tbody tr th:only-of-type {\n",
       "        vertical-align: middle;\n",
       "    }\n",
       "\n",
       "    .dataframe tbody tr th {\n",
       "        vertical-align: top;\n",
       "    }\n",
       "\n",
       "    .dataframe thead th {\n",
       "        text-align: right;\n",
       "    }\n",
       "</style>\n",
       "<table border=\"1\" class=\"dataframe\">\n",
       "  <thead>\n",
       "    <tr style=\"text-align: right;\">\n",
       "      <th></th>\n",
       "      <th>Unnamed: 0</th>\n",
       "      <th>customerID</th>\n",
       "      <th>gender</th>\n",
       "      <th>SeniorCitizen</th>\n",
       "      <th>Partner</th>\n",
       "      <th>Dependents</th>\n",
       "      <th>tenure</th>\n",
       "      <th>PhoneService</th>\n",
       "      <th>MultipleLines</th>\n",
       "      <th>InternetService</th>\n",
       "      <th>...</th>\n",
       "      <th>DeviceProtection</th>\n",
       "      <th>TechSupport</th>\n",
       "      <th>StreamingTV</th>\n",
       "      <th>StreamingMovies</th>\n",
       "      <th>Contract</th>\n",
       "      <th>PaperlessBilling</th>\n",
       "      <th>PaymentMethod</th>\n",
       "      <th>MonthlyCharges</th>\n",
       "      <th>TotalCharges</th>\n",
       "      <th>Churn</th>\n",
       "    </tr>\n",
       "  </thead>\n",
       "  <tbody>\n",
       "    <tr>\n",
       "      <th>1992</th>\n",
       "      <td>1992</td>\n",
       "      <td>3365-SAIGS</td>\n",
       "      <td>Female</td>\n",
       "      <td>0</td>\n",
       "      <td>False</td>\n",
       "      <td>False</td>\n",
       "      <td>17</td>\n",
       "      <td>True</td>\n",
       "      <td>False</td>\n",
       "      <td>Fiber optic</td>\n",
       "      <td>...</td>\n",
       "      <td>False</td>\n",
       "      <td>False</td>\n",
       "      <td>True</td>\n",
       "      <td>False</td>\n",
       "      <td>Month-to-month</td>\n",
       "      <td>True</td>\n",
       "      <td>Electronic check</td>\n",
       "      <td>83.550003</td>\n",
       "      <td>1329.1500244140625</td>\n",
       "      <td>False</td>\n",
       "    </tr>\n",
       "    <tr>\n",
       "      <th>2555</th>\n",
       "      <td>2555</td>\n",
       "      <td>1849-RJYIG</td>\n",
       "      <td>Female</td>\n",
       "      <td>0</td>\n",
       "      <td>False</td>\n",
       "      <td>False</td>\n",
       "      <td>8</td>\n",
       "      <td>True</td>\n",
       "      <td>False</td>\n",
       "      <td>DSL</td>\n",
       "      <td>...</td>\n",
       "      <td>False</td>\n",
       "      <td>False</td>\n",
       "      <td>True</td>\n",
       "      <td>False</td>\n",
       "      <td>Month-to-month</td>\n",
       "      <td>True</td>\n",
       "      <td>Electronic check</td>\n",
       "      <td>60.000000</td>\n",
       "      <td>487.75</td>\n",
       "      <td>False</td>\n",
       "    </tr>\n",
       "    <tr>\n",
       "      <th>3331</th>\n",
       "      <td>331</td>\n",
       "      <td>5583-EJXRD</td>\n",
       "      <td>Male</td>\n",
       "      <td>0</td>\n",
       "      <td>Yes</td>\n",
       "      <td>Yes</td>\n",
       "      <td>44</td>\n",
       "      <td>No</td>\n",
       "      <td>No phone service</td>\n",
       "      <td>DSL</td>\n",
       "      <td>...</td>\n",
       "      <td>Yes</td>\n",
       "      <td>Yes</td>\n",
       "      <td>No</td>\n",
       "      <td>Yes</td>\n",
       "      <td>Two year</td>\n",
       "      <td>Yes</td>\n",
       "      <td>Credit card (automatic)</td>\n",
       "      <td>54.050000</td>\n",
       "      <td>2375.2</td>\n",
       "      <td>No</td>\n",
       "    </tr>\n",
       "    <tr>\n",
       "      <th>2325</th>\n",
       "      <td>2325</td>\n",
       "      <td>3097-PYWXL</td>\n",
       "      <td>Female</td>\n",
       "      <td>0</td>\n",
       "      <td>True</td>\n",
       "      <td>True</td>\n",
       "      <td>4</td>\n",
       "      <td>True</td>\n",
       "      <td>False</td>\n",
       "      <td>No</td>\n",
       "      <td>...</td>\n",
       "      <td>NaN</td>\n",
       "      <td>NaN</td>\n",
       "      <td>NaN</td>\n",
       "      <td>NaN</td>\n",
       "      <td>Month-to-month</td>\n",
       "      <td>True</td>\n",
       "      <td>Electronic check</td>\n",
       "      <td>19.950001</td>\n",
       "      <td>82.9000015258789</td>\n",
       "      <td>False</td>\n",
       "    </tr>\n",
       "    <tr>\n",
       "      <th>3083</th>\n",
       "      <td>83</td>\n",
       "      <td>7136-IHZJA</td>\n",
       "      <td>Female</td>\n",
       "      <td>0</td>\n",
       "      <td>Yes</td>\n",
       "      <td>Yes</td>\n",
       "      <td>40</td>\n",
       "      <td>Yes</td>\n",
       "      <td>No</td>\n",
       "      <td>DSL</td>\n",
       "      <td>...</td>\n",
       "      <td>No</td>\n",
       "      <td>Yes</td>\n",
       "      <td>No</td>\n",
       "      <td>Yes</td>\n",
       "      <td>Month-to-month</td>\n",
       "      <td>Yes</td>\n",
       "      <td>Mailed check</td>\n",
       "      <td>71.350000</td>\n",
       "      <td>2847.2</td>\n",
       "      <td>No</td>\n",
       "    </tr>\n",
       "    <tr>\n",
       "      <th>4571</th>\n",
       "      <td>1571</td>\n",
       "      <td>2188-SXWVT</td>\n",
       "      <td>Female</td>\n",
       "      <td>0</td>\n",
       "      <td>No</td>\n",
       "      <td>No</td>\n",
       "      <td>34</td>\n",
       "      <td>Yes</td>\n",
       "      <td>No</td>\n",
       "      <td>DSL</td>\n",
       "      <td>...</td>\n",
       "      <td>No</td>\n",
       "      <td>No</td>\n",
       "      <td>No</td>\n",
       "      <td>No</td>\n",
       "      <td>One year</td>\n",
       "      <td>No</td>\n",
       "      <td>Mailed check</td>\n",
       "      <td>55.000000</td>\n",
       "      <td>1885.15</td>\n",
       "      <td>No</td>\n",
       "    </tr>\n",
       "    <tr>\n",
       "      <th>2558</th>\n",
       "      <td>2558</td>\n",
       "      <td>5380-XPJNZ</td>\n",
       "      <td>Female</td>\n",
       "      <td>0</td>\n",
       "      <td>False</td>\n",
       "      <td>False</td>\n",
       "      <td>38</td>\n",
       "      <td>True</td>\n",
       "      <td>False</td>\n",
       "      <td>No</td>\n",
       "      <td>...</td>\n",
       "      <td>NaN</td>\n",
       "      <td>NaN</td>\n",
       "      <td>NaN</td>\n",
       "      <td>NaN</td>\n",
       "      <td>One year</td>\n",
       "      <td>False</td>\n",
       "      <td>Mailed check</td>\n",
       "      <td>20.049999</td>\n",
       "      <td>678.2000122070312</td>\n",
       "      <td>False</td>\n",
       "    </tr>\n",
       "    <tr>\n",
       "      <th>3497</th>\n",
       "      <td>497</td>\n",
       "      <td>7614-QVWQL</td>\n",
       "      <td>Male</td>\n",
       "      <td>0</td>\n",
       "      <td>Yes</td>\n",
       "      <td>Yes</td>\n",
       "      <td>49</td>\n",
       "      <td>No</td>\n",
       "      <td>No phone service</td>\n",
       "      <td>DSL</td>\n",
       "      <td>...</td>\n",
       "      <td>No</td>\n",
       "      <td>No</td>\n",
       "      <td>Yes</td>\n",
       "      <td>Yes</td>\n",
       "      <td>One year</td>\n",
       "      <td>Yes</td>\n",
       "      <td>Bank transfer (automatic)</td>\n",
       "      <td>51.800000</td>\n",
       "      <td>2541.25</td>\n",
       "      <td>Yes</td>\n",
       "    </tr>\n",
       "    <tr>\n",
       "      <th>4150</th>\n",
       "      <td>1150</td>\n",
       "      <td>5222-IMUKT</td>\n",
       "      <td>Male</td>\n",
       "      <td>0</td>\n",
       "      <td>No</td>\n",
       "      <td>No</td>\n",
       "      <td>32</td>\n",
       "      <td>Yes</td>\n",
       "      <td>No</td>\n",
       "      <td>Fiber optic</td>\n",
       "      <td>...</td>\n",
       "      <td>No</td>\n",
       "      <td>No</td>\n",
       "      <td>Yes</td>\n",
       "      <td>Yes</td>\n",
       "      <td>Month-to-month</td>\n",
       "      <td>No</td>\n",
       "      <td>Electronic check</td>\n",
       "      <td>91.050000</td>\n",
       "      <td>2871.5</td>\n",
       "      <td>No</td>\n",
       "    </tr>\n",
       "    <tr>\n",
       "      <th>4075</th>\n",
       "      <td>1075</td>\n",
       "      <td>5081-NWSUP</td>\n",
       "      <td>Female</td>\n",
       "      <td>0</td>\n",
       "      <td>No</td>\n",
       "      <td>No</td>\n",
       "      <td>10</td>\n",
       "      <td>Yes</td>\n",
       "      <td>No</td>\n",
       "      <td>DSL</td>\n",
       "      <td>...</td>\n",
       "      <td>No</td>\n",
       "      <td>Yes</td>\n",
       "      <td>No</td>\n",
       "      <td>Yes</td>\n",
       "      <td>One year</td>\n",
       "      <td>No</td>\n",
       "      <td>Mailed check</td>\n",
       "      <td>64.900000</td>\n",
       "      <td>685.55</td>\n",
       "      <td>No</td>\n",
       "    </tr>\n",
       "    <tr>\n",
       "      <th>2951</th>\n",
       "      <td>2951</td>\n",
       "      <td>5815-HGGHV</td>\n",
       "      <td>Male</td>\n",
       "      <td>0</td>\n",
       "      <td>True</td>\n",
       "      <td>False</td>\n",
       "      <td>20</td>\n",
       "      <td>True</td>\n",
       "      <td>False</td>\n",
       "      <td>DSL</td>\n",
       "      <td>...</td>\n",
       "      <td>False</td>\n",
       "      <td>True</td>\n",
       "      <td>False</td>\n",
       "      <td>True</td>\n",
       "      <td>One year</td>\n",
       "      <td>True</td>\n",
       "      <td>Mailed check</td>\n",
       "      <td>64.150002</td>\n",
       "      <td>1274.449951171875</td>\n",
       "      <td>False</td>\n",
       "    </tr>\n",
       "    <tr>\n",
       "      <th>2520</th>\n",
       "      <td>2520</td>\n",
       "      <td>5788-YPOEG</td>\n",
       "      <td>Female</td>\n",
       "      <td>0</td>\n",
       "      <td>True</td>\n",
       "      <td>True</td>\n",
       "      <td>34</td>\n",
       "      <td>True</td>\n",
       "      <td>False</td>\n",
       "      <td>DSL</td>\n",
       "      <td>...</td>\n",
       "      <td>True</td>\n",
       "      <td>True</td>\n",
       "      <td>True</td>\n",
       "      <td>True</td>\n",
       "      <td>Two year</td>\n",
       "      <td>False</td>\n",
       "      <td>Mailed check</td>\n",
       "      <td>84.750000</td>\n",
       "      <td>2839.449951171875</td>\n",
       "      <td>False</td>\n",
       "    </tr>\n",
       "    <tr>\n",
       "      <th>2007</th>\n",
       "      <td>2007</td>\n",
       "      <td>8086-OVPWV</td>\n",
       "      <td>Male</td>\n",
       "      <td>0</td>\n",
       "      <td>False</td>\n",
       "      <td>False</td>\n",
       "      <td>2</td>\n",
       "      <td>True</td>\n",
       "      <td>False</td>\n",
       "      <td>Fiber optic</td>\n",
       "      <td>...</td>\n",
       "      <td>False</td>\n",
       "      <td>False</td>\n",
       "      <td>False</td>\n",
       "      <td>True</td>\n",
       "      <td>Month-to-month</td>\n",
       "      <td>True</td>\n",
       "      <td>Electronic check</td>\n",
       "      <td>80.199997</td>\n",
       "      <td>181.10000610351562</td>\n",
       "      <td>True</td>\n",
       "    </tr>\n",
       "    <tr>\n",
       "      <th>2419</th>\n",
       "      <td>2419</td>\n",
       "      <td>2450-ZKEED</td>\n",
       "      <td>Female</td>\n",
       "      <td>0</td>\n",
       "      <td>False</td>\n",
       "      <td>False</td>\n",
       "      <td>11</td>\n",
       "      <td>True</td>\n",
       "      <td>False</td>\n",
       "      <td>DSL</td>\n",
       "      <td>...</td>\n",
       "      <td>True</td>\n",
       "      <td>True</td>\n",
       "      <td>False</td>\n",
       "      <td>False</td>\n",
       "      <td>One year</td>\n",
       "      <td>False</td>\n",
       "      <td>Bank transfer (automatic)</td>\n",
       "      <td>53.799999</td>\n",
       "      <td>651.5499877929688</td>\n",
       "      <td>False</td>\n",
       "    </tr>\n",
       "    <tr>\n",
       "      <th>1340</th>\n",
       "      <td>1340</td>\n",
       "      <td>1371-DWPAZ</td>\n",
       "      <td>Female</td>\n",
       "      <td>0</td>\n",
       "      <td>True</td>\n",
       "      <td>True</td>\n",
       "      <td>0</td>\n",
       "      <td>False</td>\n",
       "      <td>NaN</td>\n",
       "      <td>DSL</td>\n",
       "      <td>...</td>\n",
       "      <td>True</td>\n",
       "      <td>True</td>\n",
       "      <td>True</td>\n",
       "      <td>False</td>\n",
       "      <td>Two year</td>\n",
       "      <td>False</td>\n",
       "      <td>Credit card (automatic)</td>\n",
       "      <td>56.049999</td>\n",
       "      <td>NaN</td>\n",
       "      <td>False</td>\n",
       "    </tr>\n",
       "  </tbody>\n",
       "</table>\n",
       "<p>15 rows × 22 columns</p>\n",
       "</div>"
      ],
      "text/plain": [
       "      Unnamed: 0  customerID  gender  SeniorCitizen Partner Dependents  \\\n",
       "1992        1992  3365-SAIGS  Female              0   False      False   \n",
       "2555        2555  1849-RJYIG  Female              0   False      False   \n",
       "3331         331  5583-EJXRD    Male              0     Yes        Yes   \n",
       "2325        2325  3097-PYWXL  Female              0    True       True   \n",
       "3083          83  7136-IHZJA  Female              0     Yes        Yes   \n",
       "4571        1571  2188-SXWVT  Female              0      No         No   \n",
       "2558        2558  5380-XPJNZ  Female              0   False      False   \n",
       "3497         497  7614-QVWQL    Male              0     Yes        Yes   \n",
       "4150        1150  5222-IMUKT    Male              0      No         No   \n",
       "4075        1075  5081-NWSUP  Female              0      No         No   \n",
       "2951        2951  5815-HGGHV    Male              0    True      False   \n",
       "2520        2520  5788-YPOEG  Female              0    True       True   \n",
       "2007        2007  8086-OVPWV    Male              0   False      False   \n",
       "2419        2419  2450-ZKEED  Female              0   False      False   \n",
       "1340        1340  1371-DWPAZ  Female              0    True       True   \n",
       "\n",
       "      tenure PhoneService     MultipleLines InternetService  ...  \\\n",
       "1992      17         True             False     Fiber optic  ...   \n",
       "2555       8         True             False             DSL  ...   \n",
       "3331      44           No  No phone service             DSL  ...   \n",
       "2325       4         True             False              No  ...   \n",
       "3083      40          Yes                No             DSL  ...   \n",
       "4571      34          Yes                No             DSL  ...   \n",
       "2558      38         True             False              No  ...   \n",
       "3497      49           No  No phone service             DSL  ...   \n",
       "4150      32          Yes                No     Fiber optic  ...   \n",
       "4075      10          Yes                No             DSL  ...   \n",
       "2951      20         True             False             DSL  ...   \n",
       "2520      34         True             False             DSL  ...   \n",
       "2007       2         True             False     Fiber optic  ...   \n",
       "2419      11         True             False             DSL  ...   \n",
       "1340       0        False               NaN             DSL  ...   \n",
       "\n",
       "     DeviceProtection TechSupport StreamingTV StreamingMovies        Contract  \\\n",
       "1992            False       False        True           False  Month-to-month   \n",
       "2555            False       False        True           False  Month-to-month   \n",
       "3331              Yes         Yes          No             Yes        Two year   \n",
       "2325              NaN         NaN         NaN             NaN  Month-to-month   \n",
       "3083               No         Yes          No             Yes  Month-to-month   \n",
       "4571               No          No          No              No        One year   \n",
       "2558              NaN         NaN         NaN             NaN        One year   \n",
       "3497               No          No         Yes             Yes        One year   \n",
       "4150               No          No         Yes             Yes  Month-to-month   \n",
       "4075               No         Yes          No             Yes        One year   \n",
       "2951            False        True       False            True        One year   \n",
       "2520             True        True        True            True        Two year   \n",
       "2007            False       False       False            True  Month-to-month   \n",
       "2419             True        True       False           False        One year   \n",
       "1340             True        True        True           False        Two year   \n",
       "\n",
       "     PaperlessBilling              PaymentMethod MonthlyCharges  \\\n",
       "1992             True           Electronic check      83.550003   \n",
       "2555             True           Electronic check      60.000000   \n",
       "3331              Yes    Credit card (automatic)      54.050000   \n",
       "2325             True           Electronic check      19.950001   \n",
       "3083              Yes               Mailed check      71.350000   \n",
       "4571               No               Mailed check      55.000000   \n",
       "2558            False               Mailed check      20.049999   \n",
       "3497              Yes  Bank transfer (automatic)      51.800000   \n",
       "4150               No           Electronic check      91.050000   \n",
       "4075               No               Mailed check      64.900000   \n",
       "2951             True               Mailed check      64.150002   \n",
       "2520            False               Mailed check      84.750000   \n",
       "2007             True           Electronic check      80.199997   \n",
       "2419            False  Bank transfer (automatic)      53.799999   \n",
       "1340            False    Credit card (automatic)      56.049999   \n",
       "\n",
       "            TotalCharges  Churn  \n",
       "1992  1329.1500244140625  False  \n",
       "2555              487.75  False  \n",
       "3331              2375.2     No  \n",
       "2325    82.9000015258789  False  \n",
       "3083              2847.2     No  \n",
       "4571             1885.15     No  \n",
       "2558   678.2000122070312  False  \n",
       "3497             2541.25    Yes  \n",
       "4150              2871.5     No  \n",
       "4075              685.55     No  \n",
       "2951   1274.449951171875  False  \n",
       "2520   2839.449951171875  False  \n",
       "2007  181.10000610351562   True  \n",
       "2419   651.5499877929688  False  \n",
       "1340                 NaN  False  \n",
       "\n",
       "[15 rows x 22 columns]"
      ]
     },
     "execution_count": 5,
     "metadata": {},
     "output_type": "execute_result"
    }
   ],
   "source": [
    "df.sample(15)"
   ]
  },
  {
   "cell_type": "code",
   "execution_count": 6,
   "id": "d8ad2f76",
   "metadata": {},
   "outputs": [
    {
     "data": {
      "text/plain": [
       "Unnamed: 0            int64\n",
       "customerID           object\n",
       "gender               object\n",
       "SeniorCitizen         int64\n",
       "Partner              object\n",
       "Dependents           object\n",
       "tenure                int64\n",
       "PhoneService         object\n",
       "MultipleLines        object\n",
       "InternetService      object\n",
       "OnlineSecurity       object\n",
       "OnlineBackup         object\n",
       "DeviceProtection     object\n",
       "TechSupport          object\n",
       "StreamingTV          object\n",
       "StreamingMovies      object\n",
       "Contract             object\n",
       "PaperlessBilling     object\n",
       "PaymentMethod        object\n",
       "MonthlyCharges      float64\n",
       "TotalCharges         object\n",
       "Churn                object\n",
       "dtype: object"
      ]
     },
     "execution_count": 6,
     "metadata": {},
     "output_type": "execute_result"
    }
   ],
   "source": [
    "df.dtypes"
   ]
  },
  {
   "cell_type": "code",
   "execution_count": 7,
   "id": "0ca55f19",
   "metadata": {},
   "outputs": [
    {
     "name": "stdout",
     "output_type": "stream",
     "text": [
      "<class 'pandas.core.frame.DataFrame'>\n",
      "RangeIndex: 5043 entries, 0 to 5042\n",
      "Data columns (total 22 columns):\n",
      " #   Column            Non-Null Count  Dtype  \n",
      "---  ------            --------------  -----  \n",
      " 0   Unnamed: 0        5043 non-null   int64  \n",
      " 1   customerID        5043 non-null   object \n",
      " 2   gender            5043 non-null   object \n",
      " 3   SeniorCitizen     5043 non-null   int64  \n",
      " 4   Partner           5043 non-null   object \n",
      " 5   Dependents        5043 non-null   object \n",
      " 6   tenure            5043 non-null   int64  \n",
      " 7   PhoneService      5043 non-null   object \n",
      " 8   MultipleLines     4774 non-null   object \n",
      " 9   InternetService   5043 non-null   object \n",
      " 10  OnlineSecurity    4392 non-null   object \n",
      " 11  OnlineBackup      4392 non-null   object \n",
      " 12  DeviceProtection  4392 non-null   object \n",
      " 13  TechSupport       4392 non-null   object \n",
      " 14  StreamingTV       4392 non-null   object \n",
      " 15  StreamingMovies   4392 non-null   object \n",
      " 16  Contract          5043 non-null   object \n",
      " 17  PaperlessBilling  5043 non-null   object \n",
      " 18  PaymentMethod     5043 non-null   object \n",
      " 19  MonthlyCharges    5043 non-null   float64\n",
      " 20  TotalCharges      5038 non-null   object \n",
      " 21  Churn             5042 non-null   object \n",
      "dtypes: float64(1), int64(3), object(18)\n",
      "memory usage: 866.9+ KB\n"
     ]
    }
   ],
   "source": [
    "df.info()"
   ]
  },
  {
   "cell_type": "code",
   "execution_count": 8,
   "id": "73cc900a",
   "metadata": {},
   "outputs": [
    {
     "data": {
      "text/plain": [
       "Unnamed: 0            0\n",
       "customerID            0\n",
       "gender                0\n",
       "SeniorCitizen         0\n",
       "Partner               0\n",
       "Dependents            0\n",
       "tenure                0\n",
       "PhoneService          0\n",
       "MultipleLines       269\n",
       "InternetService       0\n",
       "OnlineSecurity      651\n",
       "OnlineBackup        651\n",
       "DeviceProtection    651\n",
       "TechSupport         651\n",
       "StreamingTV         651\n",
       "StreamingMovies     651\n",
       "Contract              0\n",
       "PaperlessBilling      0\n",
       "PaymentMethod         0\n",
       "MonthlyCharges        0\n",
       "TotalCharges          5\n",
       "Churn                 1\n",
       "dtype: int64"
      ]
     },
     "execution_count": 8,
     "metadata": {},
     "output_type": "execute_result"
    }
   ],
   "source": [
    "# sum of null values\n",
    "df.isnull().sum()"
   ]
  },
  {
   "cell_type": "code",
   "execution_count": 9,
   "id": "ed374cfa",
   "metadata": {},
   "outputs": [],
   "source": [
    "df.drop(columns={'Unnamed: 0'}, inplace = True)"
   ]
  },
  {
   "cell_type": "code",
   "execution_count": 10,
   "id": "4dd1bc4c",
   "metadata": {},
   "outputs": [
    {
     "data": {
      "text/plain": [
       "False    2219\n",
       "No       1487\n",
       "True      780\n",
       "Yes       556\n",
       "Name: Churn, dtype: int64"
      ]
     },
     "execution_count": 10,
     "metadata": {},
     "output_type": "execute_result"
    }
   ],
   "source": [
    "df['Churn'].value_counts()\n"
   ]
  },
  {
   "cell_type": "code",
   "execution_count": 11,
   "id": "b712fe36",
   "metadata": {},
   "outputs": [
    {
     "data": {
      "text/html": [
       "<div>\n",
       "<style scoped>\n",
       "    .dataframe tbody tr th:only-of-type {\n",
       "        vertical-align: middle;\n",
       "    }\n",
       "\n",
       "    .dataframe tbody tr th {\n",
       "        vertical-align: top;\n",
       "    }\n",
       "\n",
       "    .dataframe thead th {\n",
       "        text-align: right;\n",
       "    }\n",
       "</style>\n",
       "<table border=\"1\" class=\"dataframe\">\n",
       "  <thead>\n",
       "    <tr style=\"text-align: right;\">\n",
       "      <th></th>\n",
       "      <th>SeniorCitizen</th>\n",
       "      <th>tenure</th>\n",
       "      <th>MonthlyCharges</th>\n",
       "    </tr>\n",
       "  </thead>\n",
       "  <tbody>\n",
       "    <tr>\n",
       "      <th>count</th>\n",
       "      <td>5043.000000</td>\n",
       "      <td>5043.000000</td>\n",
       "      <td>5043.000000</td>\n",
       "    </tr>\n",
       "    <tr>\n",
       "      <th>mean</th>\n",
       "      <td>0.162403</td>\n",
       "      <td>32.576641</td>\n",
       "      <td>65.090214</td>\n",
       "    </tr>\n",
       "    <tr>\n",
       "      <th>std</th>\n",
       "      <td>0.368857</td>\n",
       "      <td>24.529807</td>\n",
       "      <td>30.068133</td>\n",
       "    </tr>\n",
       "    <tr>\n",
       "      <th>min</th>\n",
       "      <td>0.000000</td>\n",
       "      <td>0.000000</td>\n",
       "      <td>18.400000</td>\n",
       "    </tr>\n",
       "    <tr>\n",
       "      <th>25%</th>\n",
       "      <td>0.000000</td>\n",
       "      <td>9.000000</td>\n",
       "      <td>35.775000</td>\n",
       "    </tr>\n",
       "    <tr>\n",
       "      <th>50%</th>\n",
       "      <td>0.000000</td>\n",
       "      <td>29.000000</td>\n",
       "      <td>70.550003</td>\n",
       "    </tr>\n",
       "    <tr>\n",
       "      <th>75%</th>\n",
       "      <td>0.000000</td>\n",
       "      <td>56.000000</td>\n",
       "      <td>90.050003</td>\n",
       "    </tr>\n",
       "    <tr>\n",
       "      <th>max</th>\n",
       "      <td>1.000000</td>\n",
       "      <td>72.000000</td>\n",
       "      <td>118.650002</td>\n",
       "    </tr>\n",
       "  </tbody>\n",
       "</table>\n",
       "</div>"
      ],
      "text/plain": [
       "       SeniorCitizen       tenure  MonthlyCharges\n",
       "count    5043.000000  5043.000000     5043.000000\n",
       "mean        0.162403    32.576641       65.090214\n",
       "std         0.368857    24.529807       30.068133\n",
       "min         0.000000     0.000000       18.400000\n",
       "25%         0.000000     9.000000       35.775000\n",
       "50%         0.000000    29.000000       70.550003\n",
       "75%         0.000000    56.000000       90.050003\n",
       "max         1.000000    72.000000      118.650002"
      ]
     },
     "execution_count": 11,
     "metadata": {},
     "output_type": "execute_result"
    }
   ],
   "source": [
    "df.describe()"
   ]
  },
  {
   "cell_type": "code",
   "execution_count": 12,
   "id": "c9efe154",
   "metadata": {},
   "outputs": [],
   "source": [
    "# categorical and numerical columns\n",
    "cat=[]\n",
    "num=[]\n",
    "\n",
    "for column in df.columns:\n",
    "    if df[column].nunique()> 9:\n",
    "        num.append(column)\n",
    "    else:\n",
    "        cat.append(column)"
   ]
  },
  {
   "cell_type": "code",
   "execution_count": 13,
   "id": "5f5ce0c5",
   "metadata": {},
   "outputs": [
    {
     "data": {
      "text/plain": [
       "['gender',\n",
       " 'SeniorCitizen',\n",
       " 'Partner',\n",
       " 'Dependents',\n",
       " 'PhoneService',\n",
       " 'MultipleLines',\n",
       " 'InternetService',\n",
       " 'OnlineSecurity',\n",
       " 'OnlineBackup',\n",
       " 'DeviceProtection',\n",
       " 'TechSupport',\n",
       " 'StreamingTV',\n",
       " 'StreamingMovies',\n",
       " 'Contract',\n",
       " 'PaperlessBilling',\n",
       " 'PaymentMethod',\n",
       " 'Churn']"
      ]
     },
     "execution_count": 13,
     "metadata": {},
     "output_type": "execute_result"
    }
   ],
   "source": [
    "cat"
   ]
  },
  {
   "cell_type": "code",
   "execution_count": 14,
   "id": "38b8355b",
   "metadata": {},
   "outputs": [
    {
     "data": {
      "text/plain": [
       "['customerID', 'tenure', 'MonthlyCharges', 'TotalCharges']"
      ]
     },
     "execution_count": 14,
     "metadata": {},
     "output_type": "execute_result"
    }
   ],
   "source": [
    "num"
   ]
  },
  {
   "cell_type": "code",
   "execution_count": 15,
   "id": "cad487ae",
   "metadata": {},
   "outputs": [],
   "source": [
    "# Select the columns with missing values\n",
    "# columns_with_missing = ['MultipleLines', 'OnlineSecurity', 'OnlineBackup', 'DeviceProtection',\n",
    "                #        'TechSupport', 'StreamingTV', 'StreamingMovies', 'TotalCharges', 'Churn']\n",
    "\n",
    "\n",
    "# imputer = SimpleImputer(strategy='most_frequent')\n",
    "\n",
    "# imputer.fit(df[columns_with_missing])\n",
    "\n",
    "# Transform and replace the missing values in the DataFrame\n",
    "# df[columns_with_missing] = imputer.transform(df[columns_with_missing])"
   ]
  },
  {
   "cell_type": "code",
   "execution_count": 16,
   "id": "5cf3457c",
   "metadata": {},
   "outputs": [
    {
     "data": {
      "text/plain": [
       "customerID            0\n",
       "gender                0\n",
       "SeniorCitizen         0\n",
       "Partner               0\n",
       "Dependents            0\n",
       "tenure                0\n",
       "PhoneService          0\n",
       "MultipleLines       269\n",
       "InternetService       0\n",
       "OnlineSecurity      651\n",
       "OnlineBackup        651\n",
       "DeviceProtection    651\n",
       "TechSupport         651\n",
       "StreamingTV         651\n",
       "StreamingMovies     651\n",
       "Contract              0\n",
       "PaperlessBilling      0\n",
       "PaymentMethod         0\n",
       "MonthlyCharges        0\n",
       "TotalCharges          5\n",
       "Churn                 1\n",
       "dtype: int64"
      ]
     },
     "execution_count": 16,
     "metadata": {},
     "output_type": "execute_result"
    }
   ],
   "source": [
    "df.isnull().sum()"
   ]
  },
  {
   "cell_type": "code",
   "execution_count": 17,
   "id": "0e88715e",
   "metadata": {},
   "outputs": [
    {
     "data": {
      "text/plain": [
       "array(['False', 'True', nan, 'No', 'Yes'], dtype=object)"
      ]
     },
     "execution_count": 17,
     "metadata": {},
     "output_type": "execute_result"
    }
   ],
   "source": [
    "df['Churn'].unique()"
   ]
  },
  {
   "cell_type": "code",
   "execution_count": 18,
   "id": "5e6658b2",
   "metadata": {},
   "outputs": [],
   "source": [
    "df['Churn'] = df['Churn'].replace({'False': 'No', 'True': 'Yes'})\n"
   ]
  },
  {
   "cell_type": "markdown",
   "id": "06aab7a3",
   "metadata": {},
   "source": [
    "## Univariate Analysis"
   ]
  },
  {
   "cell_type": "code",
   "execution_count": 19,
   "id": "ff79ea63",
   "metadata": {},
   "outputs": [
    {
     "data": {
      "image/png": "[encoded data removed]",
      "text/plain": [
       "<Figure size 432x288 with 1 Axes>"
      ]
     },
     "metadata": {},
     "output_type": "display_data"
    }
   ],
   "source": [
    "df['PaymentMethod'].value_counts().plot(kind='pie',autopct='%1.2f%%', title='A piechart of Payment Methods',label='');"
   ]
  },
  {
   "cell_type": "markdown",
   "id": "035c6fc1",
   "metadata": {},
   "source": [
    "**Electronic check** is the most used payment method by customers, followed by **mailed check**."
   ]
  },
  {
   "cell_type": "code",
   "execution_count": 20,
   "id": "ca56f444",
   "metadata": {},
   "outputs": [
    {
     "data": {
      "text/plain": [
       "Male      2559\n",
       "Female    2484\n",
       "Name: gender, dtype: int64"
      ]
     },
     "execution_count": 20,
     "metadata": {},
     "output_type": "execute_result"
    }
   ],
   "source": [
    "df['gender'].value_counts()"
   ]
  },
  {
   "cell_type": "code",
   "execution_count": 21,
   "id": "b43f1c8a",
   "metadata": {},
   "outputs": [
    {
     "data": {
      "image/png": "[encoded data removed]",
      "text/plain": [
       "<Figure size 432x288 with 1 Axes>"
      ]
     },
     "metadata": {
      "needs_background": "light"
     },
     "output_type": "display_data"
    }
   ],
   "source": [
    "df['Churn'].value_counts().plot(kind='bar',title='Barplot of Churn',fontsize=14);"
   ]
  },
  {
   "cell_type": "code",
   "execution_count": 22,
   "id": "08a23e97",
   "metadata": {},
   "outputs": [
    {
     "data": {
      "image/png": "[encoded data removed]",
      "text/plain": [
       "<Figure size 432x288 with 1 Axes>"
      ]
     },
     "metadata": {
      "needs_background": "light"
     },
     "output_type": "display_data"
    }
   ],
   "source": [
    "# distribution of Monthly Charges\n",
    "sns.distplot(df['MonthlyCharges']);"
   ]
  },
  {
   "cell_type": "code",
   "execution_count": 23,
   "id": "50b7137e",
   "metadata": {},
   "outputs": [
    {
     "data": {
      "text/plain": [
       "-0.2387670788605832"
      ]
     },
     "execution_count": 23,
     "metadata": {},
     "output_type": "execute_result"
    }
   ],
   "source": [
    "df['MonthlyCharges'].skew()"
   ]
  },
  {
   "cell_type": "code",
   "execution_count": 24,
   "id": "b3d04756",
   "metadata": {
    "scrolled": true
   },
   "outputs": [
    {
     "data": {
      "image/png": "[encoded data removed]",
      "text/plain": [
       "<Figure size 432x288 with 1 Axes>"
      ]
     },
     "metadata": {
      "needs_background": "light"
     },
     "output_type": "display_data"
    }
   ],
   "source": [
    "# distribution of Tenure\n",
    "sns.distplot(df['tenure']);"
   ]
  },
  {
   "cell_type": "markdown",
   "id": "d5064d29",
   "metadata": {},
   "source": [
    "## Bivariate and Multivariate Analysis "
   ]
  },
  {
   "cell_type": "code",
   "execution_count": 25,
   "id": "c89bcf4b",
   "metadata": {
    "scrolled": true
   },
   "outputs": [
    {
     "data": {
      "image/png": "[encoded data removed]",
      "text/plain": [
       "<Figure size 432x288 with 1 Axes>"
      ]
     },
     "metadata": {
      "needs_background": "light"
     },
     "output_type": "display_data"
    }
   ],
   "source": [
    "sns.countplot( x='Churn', hue='gender', data=df)\n",
    "plt.title('Countplot of churn by Gender')\n",
    "plt.show()"
   ]
  },
  {
   "cell_type": "code",
   "execution_count": 26,
   "id": "d167ccdd",
   "metadata": {},
   "outputs": [
    {
     "data": {
      "text/plain": [
       "<AxesSubplot:xlabel='PaymentMethod', ylabel='gender'>"
      ]
     },
     "execution_count": 26,
     "metadata": {},
     "output_type": "execute_result"
    },
    {
     "data": {
      "image/png": "[encoded data removed]",
      "text/plain": [
       "<Figure size 432x288 with 2 Axes>"
      ]
     },
     "metadata": {
      "needs_background": "light"
     },
     "output_type": "display_data"
    }
   ],
   "source": [
    "# heatmap of gender against payment method\n",
    "sns.heatmap(pd.crosstab(df['gender'],df['PaymentMethod']))"
   ]
  },
  {
   "cell_type": "markdown",
   "id": "907a6dc6",
   "metadata": {},
   "source": [
    "## Feature Processing and Engineering"
   ]
  },
  {
   "cell_type": "code",
   "execution_count": 27,
   "id": "da4ad012",
   "metadata": {
    "scrolled": true
   },
   "outputs": [
    {
     "data": {
      "text/plain": [
       "False    5043\n",
       "dtype: int64"
      ]
     },
     "execution_count": 27,
     "metadata": {},
     "output_type": "execute_result"
    }
   ],
   "source": [
    "# dropping duplicates\n",
    "df.duplicated().value_counts()"
   ]
  },
  {
   "cell_type": "code",
   "execution_count": 28,
   "id": "37b0ed70",
   "metadata": {},
   "outputs": [],
   "source": [
    "df.drop(columns={'customerID','gender'}, inplace=True)"
   ]
  },
  {
   "cell_type": "markdown",
   "id": "a7793907",
   "metadata": {},
   "source": [
    "I have dropped these columns because\n",
    "1. customerID has no significance in our analysis.\n",
    "1. There is no significant difference in the number of males and females consuming this product."
   ]
  },
  {
   "cell_type": "code",
   "execution_count": 29,
   "id": "1dd5e843",
   "metadata": {},
   "outputs": [],
   "source": [
    "# Select the columns with missing values\n",
    "columns_with_missing = ['MultipleLines', 'OnlineSecurity', 'OnlineBackup', 'DeviceProtection',\n",
    "                        'TechSupport', 'StreamingTV', 'StreamingMovies', 'TotalCharges', 'Churn']\n",
    "\n",
    "\n",
    "imputer = SimpleImputer(strategy='most_frequent')\n",
    "\n",
    "imputer.fit(df[columns_with_missing])\n",
    "\n",
    "# Transform and replace the missing values in the DataFrame\n",
    "df[columns_with_missing] = imputer.transform(df[columns_with_missing])"
   ]
  },
  {
   "cell_type": "code",
   "execution_count": 30,
   "id": "a7b31d3f",
   "metadata": {},
   "outputs": [],
   "source": [
    "categorical_columns = ['gender', 'SeniorCitizen', 'Partner', 'Dependents', 'PhoneService', 'MultipleLines',\n",
    "                       'InternetService', 'OnlineSecurity', 'OnlineBackup', 'DeviceProtection', 'TechSupport',\n",
    "                       'StreamingTV', 'StreamingMovies', 'Contract', 'PaperlessBilling', 'PaymentMethod', 'Churn']\n",
    "\n",
    "# Define a dictionary to map the values you want to replace\n",
    "value_mapping = {\n",
    "    'True': 'Yes',\n",
    "    'False': 'No',\n",
    "    'No internet service': 'No'\n",
    "}\n",
    "\n",
    "# Transform the relevant columns\n",
    "for col in categorical_columns:\n",
    "    if col in df.columns:\n",
    "        df[col].replace(value_mapping, inplace=True)\n"
   ]
  },
  {
   "cell_type": "code",
   "execution_count": 31,
   "id": "455a5cc7",
   "metadata": {},
   "outputs": [
    {
     "data": {
      "text/html": [
       "<div>\n",
       "<style scoped>\n",
       "    .dataframe tbody tr th:only-of-type {\n",
       "        vertical-align: middle;\n",
       "    }\n",
       "\n",
       "    .dataframe tbody tr th {\n",
       "        vertical-align: top;\n",
       "    }\n",
       "\n",
       "    .dataframe thead th {\n",
       "        text-align: right;\n",
       "    }\n",
       "</style>\n",
       "<table border=\"1\" class=\"dataframe\">\n",
       "  <thead>\n",
       "    <tr style=\"text-align: right;\">\n",
       "      <th></th>\n",
       "      <th>SeniorCitizen</th>\n",
       "      <th>Partner</th>\n",
       "      <th>Dependents</th>\n",
       "      <th>tenure</th>\n",
       "      <th>PhoneService</th>\n",
       "      <th>MultipleLines</th>\n",
       "      <th>InternetService</th>\n",
       "      <th>OnlineSecurity</th>\n",
       "      <th>OnlineBackup</th>\n",
       "      <th>DeviceProtection</th>\n",
       "      <th>TechSupport</th>\n",
       "      <th>StreamingTV</th>\n",
       "      <th>StreamingMovies</th>\n",
       "      <th>Contract</th>\n",
       "      <th>PaperlessBilling</th>\n",
       "      <th>PaymentMethod</th>\n",
       "      <th>MonthlyCharges</th>\n",
       "      <th>TotalCharges</th>\n",
       "    </tr>\n",
       "  </thead>\n",
       "  <tbody>\n",
       "    <tr>\n",
       "      <th>0</th>\n",
       "      <td>0</td>\n",
       "      <td>Yes</td>\n",
       "      <td>No</td>\n",
       "      <td>1</td>\n",
       "      <td>No</td>\n",
       "      <td>No</td>\n",
       "      <td>DSL</td>\n",
       "      <td>No</td>\n",
       "      <td>Yes</td>\n",
       "      <td>No</td>\n",
       "      <td>No</td>\n",
       "      <td>No</td>\n",
       "      <td>No</td>\n",
       "      <td>Month-to-month</td>\n",
       "      <td>Yes</td>\n",
       "      <td>Electronic check</td>\n",
       "      <td>29.850000</td>\n",
       "      <td>29.850000381469727</td>\n",
       "    </tr>\n",
       "    <tr>\n",
       "      <th>1</th>\n",
       "      <td>0</td>\n",
       "      <td>No</td>\n",
       "      <td>No</td>\n",
       "      <td>34</td>\n",
       "      <td>Yes</td>\n",
       "      <td>No</td>\n",
       "      <td>DSL</td>\n",
       "      <td>Yes</td>\n",
       "      <td>No</td>\n",
       "      <td>Yes</td>\n",
       "      <td>No</td>\n",
       "      <td>No</td>\n",
       "      <td>No</td>\n",
       "      <td>One year</td>\n",
       "      <td>No</td>\n",
       "      <td>Mailed check</td>\n",
       "      <td>56.950001</td>\n",
       "      <td>1889.5</td>\n",
       "    </tr>\n",
       "    <tr>\n",
       "      <th>2</th>\n",
       "      <td>0</td>\n",
       "      <td>No</td>\n",
       "      <td>No</td>\n",
       "      <td>2</td>\n",
       "      <td>Yes</td>\n",
       "      <td>No</td>\n",
       "      <td>DSL</td>\n",
       "      <td>Yes</td>\n",
       "      <td>Yes</td>\n",
       "      <td>No</td>\n",
       "      <td>No</td>\n",
       "      <td>No</td>\n",
       "      <td>No</td>\n",
       "      <td>Month-to-month</td>\n",
       "      <td>Yes</td>\n",
       "      <td>Mailed check</td>\n",
       "      <td>53.849998</td>\n",
       "      <td>108.1500015258789</td>\n",
       "    </tr>\n",
       "    <tr>\n",
       "      <th>3</th>\n",
       "      <td>0</td>\n",
       "      <td>No</td>\n",
       "      <td>No</td>\n",
       "      <td>45</td>\n",
       "      <td>No</td>\n",
       "      <td>No</td>\n",
       "      <td>DSL</td>\n",
       "      <td>Yes</td>\n",
       "      <td>No</td>\n",
       "      <td>Yes</td>\n",
       "      <td>Yes</td>\n",
       "      <td>No</td>\n",
       "      <td>No</td>\n",
       "      <td>One year</td>\n",
       "      <td>No</td>\n",
       "      <td>Bank transfer (automatic)</td>\n",
       "      <td>42.299999</td>\n",
       "      <td>1840.75</td>\n",
       "    </tr>\n",
       "    <tr>\n",
       "      <th>4</th>\n",
       "      <td>0</td>\n",
       "      <td>No</td>\n",
       "      <td>No</td>\n",
       "      <td>2</td>\n",
       "      <td>Yes</td>\n",
       "      <td>No</td>\n",
       "      <td>Fiber optic</td>\n",
       "      <td>No</td>\n",
       "      <td>No</td>\n",
       "      <td>No</td>\n",
       "      <td>No</td>\n",
       "      <td>No</td>\n",
       "      <td>No</td>\n",
       "      <td>Month-to-month</td>\n",
       "      <td>Yes</td>\n",
       "      <td>Electronic check</td>\n",
       "      <td>70.699997</td>\n",
       "      <td>151.64999389648438</td>\n",
       "    </tr>\n",
       "    <tr>\n",
       "      <th>...</th>\n",
       "      <td>...</td>\n",
       "      <td>...</td>\n",
       "      <td>...</td>\n",
       "      <td>...</td>\n",
       "      <td>...</td>\n",
       "      <td>...</td>\n",
       "      <td>...</td>\n",
       "      <td>...</td>\n",
       "      <td>...</td>\n",
       "      <td>...</td>\n",
       "      <td>...</td>\n",
       "      <td>...</td>\n",
       "      <td>...</td>\n",
       "      <td>...</td>\n",
       "      <td>...</td>\n",
       "      <td>...</td>\n",
       "      <td>...</td>\n",
       "      <td>...</td>\n",
       "    </tr>\n",
       "    <tr>\n",
       "      <th>5038</th>\n",
       "      <td>0</td>\n",
       "      <td>Yes</td>\n",
       "      <td>Yes</td>\n",
       "      <td>24</td>\n",
       "      <td>Yes</td>\n",
       "      <td>Yes</td>\n",
       "      <td>DSL</td>\n",
       "      <td>Yes</td>\n",
       "      <td>No</td>\n",
       "      <td>Yes</td>\n",
       "      <td>Yes</td>\n",
       "      <td>Yes</td>\n",
       "      <td>Yes</td>\n",
       "      <td>One year</td>\n",
       "      <td>Yes</td>\n",
       "      <td>Mailed check</td>\n",
       "      <td>84.800000</td>\n",
       "      <td>1990.5</td>\n",
       "    </tr>\n",
       "    <tr>\n",
       "      <th>5039</th>\n",
       "      <td>0</td>\n",
       "      <td>Yes</td>\n",
       "      <td>Yes</td>\n",
       "      <td>72</td>\n",
       "      <td>Yes</td>\n",
       "      <td>Yes</td>\n",
       "      <td>Fiber optic</td>\n",
       "      <td>No</td>\n",
       "      <td>Yes</td>\n",
       "      <td>Yes</td>\n",
       "      <td>No</td>\n",
       "      <td>Yes</td>\n",
       "      <td>Yes</td>\n",
       "      <td>One year</td>\n",
       "      <td>Yes</td>\n",
       "      <td>Credit card (automatic)</td>\n",
       "      <td>103.200000</td>\n",
       "      <td>7362.9</td>\n",
       "    </tr>\n",
       "    <tr>\n",
       "      <th>5040</th>\n",
       "      <td>0</td>\n",
       "      <td>Yes</td>\n",
       "      <td>Yes</td>\n",
       "      <td>11</td>\n",
       "      <td>No</td>\n",
       "      <td>No phone service</td>\n",
       "      <td>DSL</td>\n",
       "      <td>Yes</td>\n",
       "      <td>No</td>\n",
       "      <td>No</td>\n",
       "      <td>No</td>\n",
       "      <td>No</td>\n",
       "      <td>No</td>\n",
       "      <td>Month-to-month</td>\n",
       "      <td>Yes</td>\n",
       "      <td>Electronic check</td>\n",
       "      <td>29.600000</td>\n",
       "      <td>346.45</td>\n",
       "    </tr>\n",
       "    <tr>\n",
       "      <th>5041</th>\n",
       "      <td>1</td>\n",
       "      <td>Yes</td>\n",
       "      <td>No</td>\n",
       "      <td>4</td>\n",
       "      <td>Yes</td>\n",
       "      <td>Yes</td>\n",
       "      <td>Fiber optic</td>\n",
       "      <td>No</td>\n",
       "      <td>No</td>\n",
       "      <td>No</td>\n",
       "      <td>No</td>\n",
       "      <td>No</td>\n",
       "      <td>No</td>\n",
       "      <td>Month-to-month</td>\n",
       "      <td>Yes</td>\n",
       "      <td>Mailed check</td>\n",
       "      <td>74.400000</td>\n",
       "      <td>306.6</td>\n",
       "    </tr>\n",
       "    <tr>\n",
       "      <th>5042</th>\n",
       "      <td>0</td>\n",
       "      <td>No</td>\n",
       "      <td>No</td>\n",
       "      <td>66</td>\n",
       "      <td>Yes</td>\n",
       "      <td>No</td>\n",
       "      <td>Fiber optic</td>\n",
       "      <td>Yes</td>\n",
       "      <td>No</td>\n",
       "      <td>Yes</td>\n",
       "      <td>Yes</td>\n",
       "      <td>Yes</td>\n",
       "      <td>Yes</td>\n",
       "      <td>Two year</td>\n",
       "      <td>Yes</td>\n",
       "      <td>Bank transfer (automatic)</td>\n",
       "      <td>105.650000</td>\n",
       "      <td>6844.5</td>\n",
       "    </tr>\n",
       "  </tbody>\n",
       "</table>\n",
       "<p>5043 rows × 18 columns</p>\n",
       "</div>"
      ],
      "text/plain": [
       "      SeniorCitizen Partner Dependents  tenure PhoneService     MultipleLines  \\\n",
       "0                 0     Yes         No       1           No                No   \n",
       "1                 0      No         No      34          Yes                No   \n",
       "2                 0      No         No       2          Yes                No   \n",
       "3                 0      No         No      45           No                No   \n",
       "4                 0      No         No       2          Yes                No   \n",
       "...             ...     ...        ...     ...          ...               ...   \n",
       "5038              0     Yes        Yes      24          Yes               Yes   \n",
       "5039              0     Yes        Yes      72          Yes               Yes   \n",
       "5040              0     Yes        Yes      11           No  No phone service   \n",
       "5041              1     Yes         No       4          Yes               Yes   \n",
       "5042              0      No         No      66          Yes                No   \n",
       "\n",
       "     InternetService OnlineSecurity OnlineBackup DeviceProtection TechSupport  \\\n",
       "0                DSL             No          Yes               No          No   \n",
       "1                DSL            Yes           No              Yes          No   \n",
       "2                DSL            Yes          Yes               No          No   \n",
       "3                DSL            Yes           No              Yes         Yes   \n",
       "4        Fiber optic             No           No               No          No   \n",
       "...              ...            ...          ...              ...         ...   \n",
       "5038             DSL            Yes           No              Yes         Yes   \n",
       "5039     Fiber optic             No          Yes              Yes          No   \n",
       "5040             DSL            Yes           No               No          No   \n",
       "5041     Fiber optic             No           No               No          No   \n",
       "5042     Fiber optic            Yes           No              Yes         Yes   \n",
       "\n",
       "     StreamingTV StreamingMovies        Contract PaperlessBilling  \\\n",
       "0             No              No  Month-to-month              Yes   \n",
       "1             No              No        One year               No   \n",
       "2             No              No  Month-to-month              Yes   \n",
       "3             No              No        One year               No   \n",
       "4             No              No  Month-to-month              Yes   \n",
       "...          ...             ...             ...              ...   \n",
       "5038         Yes             Yes        One year              Yes   \n",
       "5039         Yes             Yes        One year              Yes   \n",
       "5040          No              No  Month-to-month              Yes   \n",
       "5041          No              No  Month-to-month              Yes   \n",
       "5042         Yes             Yes        Two year              Yes   \n",
       "\n",
       "                  PaymentMethod  MonthlyCharges        TotalCharges  \n",
       "0              Electronic check       29.850000  29.850000381469727  \n",
       "1                  Mailed check       56.950001              1889.5  \n",
       "2                  Mailed check       53.849998   108.1500015258789  \n",
       "3     Bank transfer (automatic)       42.299999             1840.75  \n",
       "4              Electronic check       70.699997  151.64999389648438  \n",
       "...                         ...             ...                 ...  \n",
       "5038               Mailed check       84.800000              1990.5  \n",
       "5039    Credit card (automatic)      103.200000              7362.9  \n",
       "5040           Electronic check       29.600000              346.45  \n",
       "5041               Mailed check       74.400000               306.6  \n",
       "5042  Bank transfer (automatic)      105.650000              6844.5  \n",
       "\n",
       "[5043 rows x 18 columns]"
      ]
     },
     "execution_count": 31,
     "metadata": {},
     "output_type": "execute_result"
    }
   ],
   "source": [
    "X=df.drop(columns={'Churn'},axis=1)\n",
    "y=df['Churn']\n",
    "X"
   ]
  },
  {
   "cell_type": "code",
   "execution_count": 32,
   "id": "b4bfb8e3",
   "metadata": {
    "scrolled": true
   },
   "outputs": [
    {
     "data": {
      "text/plain": [
       "0        No\n",
       "1        No\n",
       "2       Yes\n",
       "3        No\n",
       "4       Yes\n",
       "       ... \n",
       "5038     No\n",
       "5039     No\n",
       "5040     No\n",
       "5041    Yes\n",
       "5042     No\n",
       "Name: Churn, Length: 5043, dtype: object"
      ]
     },
     "execution_count": 32,
     "metadata": {},
     "output_type": "execute_result"
    }
   ],
   "source": [
    "y"
   ]
  },
  {
   "cell_type": "code",
   "execution_count": 33,
   "id": "db5dd551",
   "metadata": {},
   "outputs": [],
   "source": [
    "# Define categorical and numerical columns\n",
    "categorical_cols = ['SeniorCitizen', 'Partner', 'Dependents', 'PhoneService', 'MultipleLines',\n",
    "                    'InternetService', 'OnlineSecurity', 'OnlineBackup', 'DeviceProtection', 'TechSupport',\n",
    "                    'StreamingTV', 'StreamingMovies', 'Contract', 'PaperlessBilling', 'PaymentMethod']\n",
    "numerical_cols = ['tenure', 'MonthlyCharges', 'TotalCharges']\n",
    "target_col = 'Churn'\n",
    "\n",
    "# Strip leading and trailing spaces from all columns\n",
    "df = df.apply(lambda x: x.str.strip() if x.dtype == \"object\" else x)\n",
    "\n",
    "# Replace empty strings in 'TotalCharges' with NaN\n",
    "df['TotalCharges'] = df['TotalCharges'].replace('', float('nan'))\n",
    "\n",
    "# Split features and target variable\n",
    "X = df[categorical_cols + numerical_cols]\n",
    "y = df[target_col]"
   ]
  },
  {
   "cell_type": "markdown",
   "id": "53506fdc",
   "metadata": {},
   "source": [
    "## Feature encoding"
   ]
  },
  {
   "cell_type": "code",
   "execution_count": 34,
   "id": "44541af0",
   "metadata": {},
   "outputs": [],
   "source": [
    "# Perform one-hot encoding on categorical columns\n",
    "encoder = OneHotEncoder(drop='first')\n",
    "X_encoded = encoder.fit_transform(X[categorical_cols])\n",
    "\n",
    "# Get feature names after encoding\n",
    "encoded_feature_names = encoder.get_feature_names_out(categorical_cols)\n",
    "\n",
    "# Create a DataFrame with the encoded features and feature names\n",
    "X_encoded = pd.DataFrame(X_encoded.toarray(), columns=encoded_feature_names)\n",
    "\n",
    "# Concatenate encoded features with numerical columns\n",
    "X_encoded = pd.concat([X_encoded, X[numerical_cols]], axis=1)\n"
   ]
  },
  {
   "cell_type": "code",
   "execution_count": 35,
   "id": "9ecb1ad7",
   "metadata": {},
   "outputs": [],
   "source": [
    "# Split the data into train and test sets\n",
    "\n",
    "X_train, X_test, y_train, y_test = train_test_split(X_encoded, y, test_size=0.2,stratify=y, random_state=42)"
   ]
  },
  {
   "cell_type": "code",
   "execution_count": 36,
   "id": "289decf1",
   "metadata": {},
   "outputs": [],
   "source": [
    "# Impute missing values in numerical columns\n",
    "imputer = SimpleImputer(strategy='mean')\n",
    "X_train[numerical_cols] = imputer.fit_transform(X_train[numerical_cols])\n",
    "X_test[numerical_cols] = imputer.transform(X_test[numerical_cols])"
   ]
  },
  {
   "cell_type": "code",
   "execution_count": 37,
   "id": "b79327d6",
   "metadata": {},
   "outputs": [],
   "source": [
    "# Scale the numerical columns\n",
    "scaler = StandardScaler()\n",
    "X_train[numerical_cols] = scaler.fit_transform(X_train[numerical_cols])\n",
    "X_test[numerical_cols] = scaler.transform(X_test[numerical_cols])"
   ]
  },
  {
   "cell_type": "markdown",
   "id": "b30b10b1",
   "metadata": {},
   "source": [
    "## Train_set Balancing"
   ]
  },
  {
   "cell_type": "code",
   "execution_count": 38,
   "id": "f05842dd",
   "metadata": {},
   "outputs": [],
   "source": [
    "# Apply SMOTE to balance the train set\n",
    "smote = SMOTE()\n",
    "X_train_balanced, y_train_balanced = smote.fit_resample(X_train, y_train)"
   ]
  },
  {
   "cell_type": "code",
   "execution_count": 39,
   "id": "c11bec87",
   "metadata": {},
   "outputs": [
    {
     "data": {
      "text/html": [
       "<div>\n",
       "<style scoped>\n",
       "    .dataframe tbody tr th:only-of-type {\n",
       "        vertical-align: middle;\n",
       "    }\n",
       "\n",
       "    .dataframe tbody tr th {\n",
       "        vertical-align: top;\n",
       "    }\n",
       "\n",
       "    .dataframe thead th {\n",
       "        text-align: right;\n",
       "    }\n",
       "</style>\n",
       "<table border=\"1\" class=\"dataframe\">\n",
       "  <thead>\n",
       "    <tr style=\"text-align: right;\">\n",
       "      <th></th>\n",
       "      <th>SeniorCitizen_1</th>\n",
       "      <th>Partner_Yes</th>\n",
       "      <th>Dependents_Yes</th>\n",
       "      <th>PhoneService_Yes</th>\n",
       "      <th>MultipleLines_No phone service</th>\n",
       "      <th>MultipleLines_Yes</th>\n",
       "      <th>InternetService_Fiber optic</th>\n",
       "      <th>InternetService_No</th>\n",
       "      <th>OnlineSecurity_Yes</th>\n",
       "      <th>OnlineBackup_Yes</th>\n",
       "      <th>...</th>\n",
       "      <th>Contract_One year</th>\n",
       "      <th>Contract_Two year</th>\n",
       "      <th>PaperlessBilling_Yes</th>\n",
       "      <th>PaymentMethod_Credit card (automatic)</th>\n",
       "      <th>PaymentMethod_Electronic check</th>\n",
       "      <th>PaymentMethod_Mailed check</th>\n",
       "      <th>tenure</th>\n",
       "      <th>MonthlyCharges</th>\n",
       "      <th>TotalCharges</th>\n",
       "      <th>Churn</th>\n",
       "    </tr>\n",
       "  </thead>\n",
       "  <tbody>\n",
       "    <tr>\n",
       "      <th>0</th>\n",
       "      <td>0.0</td>\n",
       "      <td>0.0</td>\n",
       "      <td>0.0</td>\n",
       "      <td>1.0</td>\n",
       "      <td>0.0</td>\n",
       "      <td>0.0</td>\n",
       "      <td>1.0</td>\n",
       "      <td>0.0</td>\n",
       "      <td>0.0</td>\n",
       "      <td>0.0</td>\n",
       "      <td>...</td>\n",
       "      <td>0.0</td>\n",
       "      <td>0.0</td>\n",
       "      <td>0.0</td>\n",
       "      <td>0.0</td>\n",
       "      <td>1.0</td>\n",
       "      <td>0.0</td>\n",
       "      <td>-0.107406</td>\n",
       "      <td>0.668918</td>\n",
       "      <td>0.109880</td>\n",
       "      <td>Yes</td>\n",
       "    </tr>\n",
       "    <tr>\n",
       "      <th>1</th>\n",
       "      <td>0.0</td>\n",
       "      <td>0.0</td>\n",
       "      <td>0.0</td>\n",
       "      <td>1.0</td>\n",
       "      <td>0.0</td>\n",
       "      <td>0.0</td>\n",
       "      <td>0.0</td>\n",
       "      <td>1.0</td>\n",
       "      <td>0.0</td>\n",
       "      <td>0.0</td>\n",
       "      <td>...</td>\n",
       "      <td>0.0</td>\n",
       "      <td>0.0</td>\n",
       "      <td>1.0</td>\n",
       "      <td>1.0</td>\n",
       "      <td>0.0</td>\n",
       "      <td>0.0</td>\n",
       "      <td>-0.515543</td>\n",
       "      <td>-1.524645</td>\n",
       "      <td>-0.861049</td>\n",
       "      <td>No</td>\n",
       "    </tr>\n",
       "    <tr>\n",
       "      <th>2</th>\n",
       "      <td>0.0</td>\n",
       "      <td>0.0</td>\n",
       "      <td>0.0</td>\n",
       "      <td>1.0</td>\n",
       "      <td>0.0</td>\n",
       "      <td>1.0</td>\n",
       "      <td>1.0</td>\n",
       "      <td>0.0</td>\n",
       "      <td>0.0</td>\n",
       "      <td>1.0</td>\n",
       "      <td>...</td>\n",
       "      <td>0.0</td>\n",
       "      <td>0.0</td>\n",
       "      <td>1.0</td>\n",
       "      <td>0.0</td>\n",
       "      <td>1.0</td>\n",
       "      <td>0.0</td>\n",
       "      <td>-1.127747</td>\n",
       "      <td>0.673885</td>\n",
       "      <td>-0.827413</td>\n",
       "      <td>Yes</td>\n",
       "    </tr>\n",
       "    <tr>\n",
       "      <th>3</th>\n",
       "      <td>0.0</td>\n",
       "      <td>0.0</td>\n",
       "      <td>1.0</td>\n",
       "      <td>1.0</td>\n",
       "      <td>0.0</td>\n",
       "      <td>0.0</td>\n",
       "      <td>0.0</td>\n",
       "      <td>1.0</td>\n",
       "      <td>0.0</td>\n",
       "      <td>0.0</td>\n",
       "      <td>...</td>\n",
       "      <td>0.0</td>\n",
       "      <td>1.0</td>\n",
       "      <td>0.0</td>\n",
       "      <td>1.0</td>\n",
       "      <td>0.0</td>\n",
       "      <td>0.0</td>\n",
       "      <td>0.668053</td>\n",
       "      <td>-1.473324</td>\n",
       "      <td>-0.563384</td>\n",
       "      <td>No</td>\n",
       "    </tr>\n",
       "    <tr>\n",
       "      <th>4</th>\n",
       "      <td>0.0</td>\n",
       "      <td>1.0</td>\n",
       "      <td>1.0</td>\n",
       "      <td>1.0</td>\n",
       "      <td>0.0</td>\n",
       "      <td>1.0</td>\n",
       "      <td>1.0</td>\n",
       "      <td>0.0</td>\n",
       "      <td>0.0</td>\n",
       "      <td>1.0</td>\n",
       "      <td>...</td>\n",
       "      <td>0.0</td>\n",
       "      <td>1.0</td>\n",
       "      <td>0.0</td>\n",
       "      <td>0.0</td>\n",
       "      <td>0.0</td>\n",
       "      <td>0.0</td>\n",
       "      <td>1.606766</td>\n",
       "      <td>0.844403</td>\n",
       "      <td>1.872985</td>\n",
       "      <td>No</td>\n",
       "    </tr>\n",
       "  </tbody>\n",
       "</table>\n",
       "<p>5 rows × 24 columns</p>\n",
       "</div>"
      ],
      "text/plain": [
       "   SeniorCitizen_1  Partner_Yes  Dependents_Yes  PhoneService_Yes  \\\n",
       "0              0.0          0.0             0.0               1.0   \n",
       "1              0.0          0.0             0.0               1.0   \n",
       "2              0.0          0.0             0.0               1.0   \n",
       "3              0.0          0.0             1.0               1.0   \n",
       "4              0.0          1.0             1.0               1.0   \n",
       "\n",
       "   MultipleLines_No phone service  MultipleLines_Yes  \\\n",
       "0                             0.0                0.0   \n",
       "1                             0.0                0.0   \n",
       "2                             0.0                1.0   \n",
       "3                             0.0                0.0   \n",
       "4                             0.0                1.0   \n",
       "\n",
       "   InternetService_Fiber optic  InternetService_No  OnlineSecurity_Yes  \\\n",
       "0                          1.0                 0.0                 0.0   \n",
       "1                          0.0                 1.0                 0.0   \n",
       "2                          1.0                 0.0                 0.0   \n",
       "3                          0.0                 1.0                 0.0   \n",
       "4                          1.0                 0.0                 0.0   \n",
       "\n",
       "   OnlineBackup_Yes  ...  Contract_One year  Contract_Two year  \\\n",
       "0               0.0  ...                0.0                0.0   \n",
       "1               0.0  ...                0.0                0.0   \n",
       "2               1.0  ...                0.0                0.0   \n",
       "3               0.0  ...                0.0                1.0   \n",
       "4               1.0  ...                0.0                1.0   \n",
       "\n",
       "   PaperlessBilling_Yes  PaymentMethod_Credit card (automatic)  \\\n",
       "0                   0.0                                    0.0   \n",
       "1                   1.0                                    1.0   \n",
       "2                   1.0                                    0.0   \n",
       "3                   0.0                                    1.0   \n",
       "4                   0.0                                    0.0   \n",
       "\n",
       "   PaymentMethod_Electronic check  PaymentMethod_Mailed check    tenure  \\\n",
       "0                             1.0                         0.0 -0.107406   \n",
       "1                             0.0                         0.0 -0.515543   \n",
       "2                             1.0                         0.0 -1.127747   \n",
       "3                             0.0                         0.0  0.668053   \n",
       "4                             0.0                         0.0  1.606766   \n",
       "\n",
       "   MonthlyCharges  TotalCharges  Churn  \n",
       "0        0.668918      0.109880    Yes  \n",
       "1       -1.524645     -0.861049     No  \n",
       "2        0.673885     -0.827413    Yes  \n",
       "3       -1.473324     -0.563384     No  \n",
       "4        0.844403      1.872985     No  \n",
       "\n",
       "[5 rows x 24 columns]"
      ]
     },
     "execution_count": 39,
     "metadata": {},
     "output_type": "execute_result"
    }
   ],
   "source": [
    "# Concatenate the balanced features and target variable into a single DataFrame\n",
    "balanced_data = pd.concat([X_train_balanced, y_train_balanced], axis=1)\n",
    "\n",
    "# Display the balanced data\n",
    "balanced_data.head()\n"
   ]
  },
  {
   "cell_type": "markdown",
   "id": "c0c4bf51",
   "metadata": {},
   "source": [
    "## Machine Learning modeling\n",
    " **build**, **train**, **evaluate** and **compare** the models to each others."
   ]
  },
  {
   "cell_type": "markdown",
   "id": "bdfb4324",
   "metadata": {},
   "source": [
    "## Simple Model 001"
   ]
  },
  {
   "cell_type": "markdown",
   "id": "80544dc7",
   "metadata": {},
   "source": [
    "## Create the model"
   ]
  },
  {
   "cell_type": "code",
   "execution_count": 40,
   "id": "d087e2aa",
   "metadata": {},
   "outputs": [],
   "source": [
    "# instantiate model\n",
    "knn= KNeighborsClassifier()"
   ]
  },
  {
   "cell_type": "markdown",
   "id": "339a4d63",
   "metadata": {},
   "source": [
    "## Train the model"
   ]
  },
  {
   "cell_type": "code",
   "execution_count": 41,
   "id": "15e71445",
   "metadata": {},
   "outputs": [
    {
     "data": {
      "text/plain": [
       "KNeighborsClassifier()"
      ]
     },
     "execution_count": 41,
     "metadata": {},
     "output_type": "execute_result"
    }
   ],
   "source": [
    "# Use the .fit method\n",
    "knn.fit(X_train_balanced, y_train_balanced)"
   ]
  },
  {
   "cell_type": "code",
   "execution_count": 42,
   "id": "5a54c89c",
   "metadata": {},
   "outputs": [],
   "source": [
    "models_trained=[]\n",
    "models_trained.append(knn)"
   ]
  },
  {
   "cell_type": "markdown",
   "id": "22214931",
   "metadata": {},
   "source": [
    "## Evaluate the model on the Evaluation dataset(Evalset)"
   ]
  },
  {
   "cell_type": "code",
   "execution_count": 43,
   "id": "e4ac834f",
   "metadata": {},
   "outputs": [],
   "source": [
    "y_pred = knn.predict(X_test)"
   ]
  },
  {
   "cell_type": "code",
   "execution_count": 44,
   "id": "01df44e1",
   "metadata": {},
   "outputs": [
    {
     "name": "stdout",
     "output_type": "stream",
     "text": [
      "              precision    recall  f1-score   support\n",
      "\n",
      "          No       0.89      0.69      0.78       742\n",
      "         Yes       0.47      0.77      0.59       267\n",
      "\n",
      "    accuracy                           0.71      1009\n",
      "   macro avg       0.68      0.73      0.68      1009\n",
      "weighted avg       0.78      0.71      0.73      1009\n",
      "\n"
     ]
    }
   ],
   "source": [
    "from sklearn.metrics import classification_report\n",
    "print(classification_report(y_true=y_test,y_pred=y_pred))"
   ]
  },
  {
   "cell_type": "markdown",
   "id": "6c4ffb1e",
   "metadata": {},
   "source": [
    "## Predict on an unknown dataset(Testset)"
   ]
  },
  {
   "cell_type": "code",
   "execution_count": 45,
   "id": "7d7e51f6",
   "metadata": {},
   "outputs": [],
   "source": [
    "# Use .predict method # .predict_proba is available just for classification"
   ]
  },
  {
   "cell_type": "markdown",
   "id": "2467cf82",
   "metadata": {},
   "source": [
    "## Simple Model 002"
   ]
  },
  {
   "cell_type": "markdown",
   "id": "af310fcc",
   "metadata": {},
   "source": [
    "## Create the model"
   ]
  },
  {
   "cell_type": "code",
   "execution_count": 46,
   "id": "17a29b87",
   "metadata": {},
   "outputs": [],
   "source": [
    "# instantiate model\n",
    "ada= AdaBoostClassifier()"
   ]
  },
  {
   "cell_type": "markdown",
   "id": "c1ee0ce9",
   "metadata": {},
   "source": [
    "## Train the model"
   ]
  },
  {
   "cell_type": "code",
   "execution_count": 47,
   "id": "fd32855a",
   "metadata": {},
   "outputs": [
    {
     "data": {
      "text/plain": [
       "AdaBoostClassifier()"
      ]
     },
     "execution_count": 47,
     "metadata": {},
     "output_type": "execute_result"
    }
   ],
   "source": [
    "ada.fit(X_train_balanced, y_train_balanced)"
   ]
  },
  {
   "cell_type": "code",
   "execution_count": 48,
   "id": "0ca2f834",
   "metadata": {},
   "outputs": [],
   "source": [
    "models_trained.append(ada)"
   ]
  },
  {
   "cell_type": "markdown",
   "id": "1b207ad9",
   "metadata": {},
   "source": [
    "## Evaluate the model on the Evaluation dataset(Evalset)"
   ]
  },
  {
   "cell_type": "code",
   "execution_count": 49,
   "id": "e128fd89",
   "metadata": {},
   "outputs": [],
   "source": [
    "y_pred = ada.predict(X_test)"
   ]
  },
  {
   "cell_type": "code",
   "execution_count": 50,
   "id": "9dd37911",
   "metadata": {},
   "outputs": [
    {
     "name": "stdout",
     "output_type": "stream",
     "text": [
      "              precision    recall  f1-score   support\n",
      "\n",
      "          No       0.90      0.75      0.82       742\n",
      "         Yes       0.52      0.78      0.62       267\n",
      "\n",
      "    accuracy                           0.75      1009\n",
      "   macro avg       0.71      0.76      0.72      1009\n",
      "weighted avg       0.80      0.75      0.77      1009\n",
      "\n"
     ]
    }
   ],
   "source": [
    "print(classification_report(y_true=y_test,y_pred=y_pred))"
   ]
  },
  {
   "cell_type": "markdown",
   "id": "bbbc5586",
   "metadata": {},
   "source": [
    "# Simple Model 003"
   ]
  },
  {
   "cell_type": "code",
   "execution_count": 51,
   "id": "0f7f1649",
   "metadata": {},
   "outputs": [],
   "source": [
    "# instantiate model\n",
    "gb=GradientBoostingClassifier()"
   ]
  },
  {
   "cell_type": "code",
   "execution_count": 52,
   "id": "da65929d",
   "metadata": {},
   "outputs": [
    {
     "data": {
      "text/plain": [
       "GradientBoostingClassifier()"
      ]
     },
     "execution_count": 52,
     "metadata": {},
     "output_type": "execute_result"
    }
   ],
   "source": [
    "# train the model\n",
    "gb.fit(X_train_balanced, y_train_balanced)"
   ]
  },
  {
   "cell_type": "code",
   "execution_count": 53,
   "id": "cec233c5",
   "metadata": {},
   "outputs": [],
   "source": [
    "models_trained.append(gb)"
   ]
  },
  {
   "cell_type": "code",
   "execution_count": 54,
   "id": "010502f7",
   "metadata": {},
   "outputs": [],
   "source": [
    "# evaluate the model on the evaluation dataset\n",
    "y_pred = gb.predict(X_test)"
   ]
  },
  {
   "cell_type": "code",
   "execution_count": 55,
   "id": "5ee3dccf",
   "metadata": {},
   "outputs": [
    {
     "name": "stdout",
     "output_type": "stream",
     "text": [
      "              precision    recall  f1-score   support\n",
      "\n",
      "          No       0.88      0.82      0.85       742\n",
      "         Yes       0.58      0.69      0.63       267\n",
      "\n",
      "    accuracy                           0.79      1009\n",
      "   macro avg       0.73      0.76      0.74      1009\n",
      "weighted avg       0.80      0.79      0.79      1009\n",
      "\n"
     ]
    }
   ],
   "source": [
    "print(classification_report(y_true=y_test,y_pred=y_pred))"
   ]
  },
  {
   "cell_type": "markdown",
   "id": "d67d8ac8",
   "metadata": {},
   "source": [
    "# Simple Model 004"
   ]
  },
  {
   "cell_type": "code",
   "execution_count": 56,
   "id": "295b0945",
   "metadata": {},
   "outputs": [
    {
     "name": "stdout",
     "output_type": "stream",
     "text": [
      "              precision    recall  f1-score   support\n",
      "\n",
      "          No       0.89      0.80      0.84       742\n",
      "         Yes       0.56      0.72      0.63       267\n",
      "\n",
      "    accuracy                           0.78      1009\n",
      "   macro avg       0.73      0.76      0.74      1009\n",
      "weighted avg       0.80      0.78      0.79      1009\n",
      "\n"
     ]
    }
   ],
   "source": [
    "# Initialize the Random Forest classifier\n",
    "rf = RandomForestClassifier(n_estimators=100, max_depth=10, random_state=42)\n",
    "\n",
    "models_trained.append(rf)\n",
    "\n",
    "# Train the model on the training set\n",
    "rf.fit(X_train_balanced, y_train_balanced)\n",
    "\n",
    "# evaluate the model on the evaluation dataset\n",
    "y_pred = rf.predict(X_test)\n",
    "\n",
    "print(classification_report(y_true=y_test,y_pred=y_pred))"
   ]
  },
  {
   "cell_type": "markdown",
   "id": "7d970be2",
   "metadata": {},
   "source": [
    "## Predict on an unkown dataset(Testset)"
   ]
  },
  {
   "cell_type": "markdown",
   "id": "43c8ea4e",
   "metadata": {},
   "source": [
    "for i, model in enumerate(models_trained):\n",
    "    y_pred=model.predict(df2)\n",
    "    print(f\"Model{i+1}- Predictions: {y_pred}\")\n"
   ]
  },
  {
   "cell_type": "markdown",
   "id": "df8e23e0",
   "metadata": {},
   "source": [
    "## Models comparison"
   ]
  },
  {
   "cell_type": "code",
   "execution_count": 57,
   "id": "6a358951",
   "metadata": {},
   "outputs": [],
   "source": [
    "metric=f1_score\n"
   ]
  },
  {
   "cell_type": "code",
   "execution_count": 58,
   "id": "00b9b694",
   "metadata": {},
   "outputs": [
    {
     "name": "stdout",
     "output_type": "stream",
     "text": [
      "['No' 'Yes']\n"
     ]
    }
   ],
   "source": [
    "unique_labels = np.unique(y_test)  # Get unique labels in y_test\n",
    "print(unique_labels)  # Print the unique labels to identify the valid labels\n"
   ]
  },
  {
   "cell_type": "code",
   "execution_count": 59,
   "id": "aee6668d",
   "metadata": {},
   "outputs": [],
   "source": [
    "# Update the pos_label value based on the valid labels\n",
    "pos_label = unique_labels[0]  # Set pos_label to the first valid label\n",
    "\n",
    "# Create a list of model names\n",
    "model_names = ['KNeighborsClassifier', 'AdaBoostClassifier', 'GradientBoostingClassifier', 'RandomForestClassifier']\n",
    "\n",
    "# Create lists to store the metrics\n",
    "accuracies = []\n",
    "precisions = []\n",
    "recalls = []\n",
    "f1_scores = []\n",
    "f2_scores = []\n"
   ]
  },
  {
   "cell_type": "code",
   "execution_count": 60,
   "id": "8c97bc9d",
   "metadata": {},
   "outputs": [],
   "source": [
    "# Calculate the metrics for each model\n",
    "for model in models_trained:\n",
    "    # Predict on the test data\n",
    "    y_pred = model.predict(X_test)\n",
    "\n",
    "    # Calculate the metrics\n",
    "    accuracy = accuracy_score(y_test, y_pred)\n",
    "    precision = precision_score(y_test, y_pred, pos_label=pos_label)\n",
    "    recall = recall_score(y_test, y_pred, pos_label=pos_label)\n",
    "    f1 = f1_score(y_test, y_pred, pos_label=pos_label)\n",
    "    f2 = fbeta_score(y_test, y_pred, beta=2, pos_label=pos_label)\n",
    "\n",
    "    # Append the metrics to the respective lists\n",
    "    accuracies.append(accuracy)\n",
    "    precisions.append(precision)\n",
    "    recalls.append(recall)\n",
    "    f1_scores.append(f1)\n",
    "    f2_scores.append(f2)\n"
   ]
  },
  {
   "cell_type": "code",
   "execution_count": 61,
   "id": "a2e3a246",
   "metadata": {},
   "outputs": [],
   "source": [
    "# Create a dictionary to store the metrics\n",
    "results = {\n",
    "    'Model': model_names,\n",
    "    'Accuracy': accuracies,\n",
    "    'Precision': precisions,\n",
    "    'Recall': recalls,\n",
    "    'F1 Score': f1_scores,\n",
    "    'F2 Score': f2_scores\n",
    "}"
   ]
  },
  {
   "cell_type": "code",
   "execution_count": 62,
   "id": "fc28d9a4",
   "metadata": {},
   "outputs": [],
   "source": [
    "# Create a DataFrame from the results dictionary\n",
    "results_df = pd.DataFrame(results)\n",
    "\n",
    "# Sort the DataFrame by each metric in descending order\n",
    "sorted_df = results_df.sort_values(by=['Accuracy', 'Precision', 'Recall', 'F1 Score', 'F2 Score'], ascending=False)"
   ]
  },
  {
   "cell_type": "code",
   "execution_count": 63,
   "id": "befeec14",
   "metadata": {},
   "outputs": [
    {
     "data": {
      "text/html": [
       "<div>\n",
       "<style scoped>\n",
       "    .dataframe tbody tr th:only-of-type {\n",
       "        vertical-align: middle;\n",
       "    }\n",
       "\n",
       "    .dataframe tbody tr th {\n",
       "        vertical-align: top;\n",
       "    }\n",
       "\n",
       "    .dataframe thead th {\n",
       "        text-align: right;\n",
       "    }\n",
       "</style>\n",
       "<table border=\"1\" class=\"dataframe\">\n",
       "  <thead>\n",
       "    <tr style=\"text-align: right;\">\n",
       "      <th></th>\n",
       "      <th>Model</th>\n",
       "      <th>Accuracy</th>\n",
       "      <th>Precision</th>\n",
       "      <th>Recall</th>\n",
       "      <th>F1 Score</th>\n",
       "      <th>F2 Score</th>\n",
       "    </tr>\n",
       "  </thead>\n",
       "  <tbody>\n",
       "    <tr>\n",
       "      <th>2</th>\n",
       "      <td>GradientBoostingClassifier</td>\n",
       "      <td>0.785927</td>\n",
       "      <td>0.881159</td>\n",
       "      <td>0.819407</td>\n",
       "      <td>0.849162</td>\n",
       "      <td>0.831055</td>\n",
       "    </tr>\n",
       "    <tr>\n",
       "      <th>3</th>\n",
       "      <td>RandomForestClassifier</td>\n",
       "      <td>0.777998</td>\n",
       "      <td>0.887725</td>\n",
       "      <td>0.799191</td>\n",
       "      <td>0.841135</td>\n",
       "      <td>0.815457</td>\n",
       "    </tr>\n",
       "    <tr>\n",
       "      <th>1</th>\n",
       "      <td>AdaBoostClassifier</td>\n",
       "      <td>0.753221</td>\n",
       "      <td>0.902121</td>\n",
       "      <td>0.745283</td>\n",
       "      <td>0.816236</td>\n",
       "      <td>0.772131</td>\n",
       "    </tr>\n",
       "    <tr>\n",
       "      <th>0</th>\n",
       "      <td>KNeighborsClassifier</td>\n",
       "      <td>0.713578</td>\n",
       "      <td>0.892548</td>\n",
       "      <td>0.694070</td>\n",
       "      <td>0.780895</td>\n",
       "      <td>0.726375</td>\n",
       "    </tr>\n",
       "  </tbody>\n",
       "</table>\n",
       "</div>"
      ],
      "text/plain": [
       "                        Model  Accuracy  Precision    Recall  F1 Score  \\\n",
       "2  GradientBoostingClassifier  0.785927   0.881159  0.819407  0.849162   \n",
       "3      RandomForestClassifier  0.777998   0.887725  0.799191  0.841135   \n",
       "1          AdaBoostClassifier  0.753221   0.902121  0.745283  0.816236   \n",
       "0        KNeighborsClassifier  0.713578   0.892548  0.694070  0.780895   \n",
       "\n",
       "   F2 Score  \n",
       "2  0.831055  \n",
       "3  0.815457  \n",
       "1  0.772131  \n",
       "0  0.726375  "
      ]
     },
     "execution_count": 63,
     "metadata": {},
     "output_type": "execute_result"
    }
   ],
   "source": [
    "sorted_df"
   ]
  },
  {
   "cell_type": "markdown",
   "id": "a47ad2f6",
   "metadata": {},
   "source": [
    "## Hyperparameters tuning"
   ]
  },
  {
   "cell_type": "markdown",
   "id": "594793cd",
   "metadata": {},
   "source": [
    "Fine-tune the Top-k models (3 < k < 5) using a `GridSearchCV` (that is in sklearn.model_selection ) to find the best hyperparameters and achieve the maximum performance of each of the Top-k models, then compare them again to select the best one."
   ]
  },
  {
   "cell_type": "code",
   "execution_count": 64,
   "id": "0393a551",
   "metadata": {},
   "outputs": [],
   "source": [
    "# Define the parameter grids for each model\n",
    "param_grid_knn = {\n",
    "    'n_neighbors': [3, 5, 7],\n",
    "    'weights': ['uniform', 'distance']\n",
    "}\n"
   ]
  },
  {
   "cell_type": "code",
   "execution_count": 65,
   "id": "2ca33c80",
   "metadata": {},
   "outputs": [],
   "source": [
    "param_grid_ada = {\n",
    "    'n_estimators': [50, 100, 200],\n",
    "    'learning_rate': [0.1, 0.5, 1.0]\n",
    "}"
   ]
  },
  {
   "cell_type": "code",
   "execution_count": 66,
   "id": "f02c104f",
   "metadata": {},
   "outputs": [],
   "source": [
    "param_grid_gb = {\n",
    "    'n_estimators': [50, 100, 200],\n",
    "    'learning_rate': [0.1, 0.5, 1.0],\n",
    "    'max_depth': [3, 5, 7]\n",
    "}"
   ]
  },
  {
   "cell_type": "code",
   "execution_count": 67,
   "id": "a7336439",
   "metadata": {},
   "outputs": [],
   "source": [
    "param_grid_rf = {\n",
    "    'n_estimators': [50, 100, 200],\n",
    "    'max_depth': [5, 10, 15]\n",
    "}"
   ]
  },
  {
   "cell_type": "code",
   "execution_count": 68,
   "id": "5e286ebb",
   "metadata": {},
   "outputs": [],
   "source": [
    "# Create a list of tuples containing the models and their respective parameter grids\n",
    "models_params = [\n",
    "    (knn, param_grid_knn),\n",
    "    (ada, param_grid_ada),\n",
    "    (gb, param_grid_gb),\n",
    "    (rf, param_grid_rf)\n",
    "]\n"
   ]
  },
  {
   "cell_type": "code",
   "execution_count": 69,
   "id": "8afe34ab",
   "metadata": {},
   "outputs": [
    {
     "name": "stdout",
     "output_type": "stream",
     "text": [
      "Best Hyperparameters - KNeighborsClassifier:\n",
      "{'n_neighbors': 3, 'weights': 'uniform'}\n",
      "F1 score - KNeighborsClassifier: 0.5592705167173252\n",
      "\n",
      "Best Hyperparameters - AdaBoostClassifier:\n",
      "{'learning_rate': 0.1, 'n_estimators': 50}\n",
      "F1 score - AdaBoostClassifier: 0.6171761280931586\n",
      "\n",
      "Best Hyperparameters - GradientBoostingClassifier:\n",
      "{'learning_rate': 0.1, 'max_depth': 3, 'n_estimators': 50}\n",
      "F1 score - GradientBoostingClassifier: 0.64297253634895\n",
      "\n",
      "Best Hyperparameters - RandomForestClassifier:\n",
      "{'max_depth': 5, 'n_estimators': 50}\n",
      "F1 score - RandomForestClassifier: 0.6270928462709284\n",
      "\n"
     ]
    }
   ],
   "source": [
    "# Perform hyperparameter tuning for each model\n",
    "best_models = []\n",
    "f1_scores = []\n",
    "\n",
    "for model, param_grid in models_params:\n",
    "    grid_search = GridSearchCV(model, param_grid=param_grid, scoring='f1', cv=5)\n",
    "    grid_search.fit(X_train_balanced, y_train_balanced)\n",
    "    \n",
    "    best_params = grid_search.best_params_\n",
    "    best_model = grid_search.best_estimator_\n",
    "    best_models.append(best_model)\n",
    "    \n",
    "    y_pred = best_model.predict(X_test)\n",
    "    f1 = f1_score(y_test, y_pred, pos_label='Yes')\n",
    "    f1_scores.append(f1)\n",
    "    \n",
    "    print(f\"Best Hyperparameters - {type(model).__name__}:\")\n",
    "    print(best_params)\n",
    "    print(f\"F1 score - {type(model).__name__}: {f1}\")\n",
    "    print()"
   ]
  },
  {
   "cell_type": "code",
   "execution_count": 70,
   "id": "e8e87ea6",
   "metadata": {},
   "outputs": [
    {
     "name": "stdout",
     "output_type": "stream",
     "text": [
      "Models Comparison:\n"
     ]
    },
    {
     "data": {
      "text/html": [
       "<div>\n",
       "<style scoped>\n",
       "    .dataframe tbody tr th:only-of-type {\n",
       "        vertical-align: middle;\n",
       "    }\n",
       "\n",
       "    .dataframe tbody tr th {\n",
       "        vertical-align: top;\n",
       "    }\n",
       "\n",
       "    .dataframe thead th {\n",
       "        text-align: right;\n",
       "    }\n",
       "</style>\n",
       "<table border=\"1\" class=\"dataframe\">\n",
       "  <thead>\n",
       "    <tr style=\"text-align: right;\">\n",
       "      <th></th>\n",
       "      <th>Model_Name</th>\n",
       "      <th>F1_Score</th>\n",
       "    </tr>\n",
       "  </thead>\n",
       "  <tbody>\n",
       "    <tr>\n",
       "      <th>2</th>\n",
       "      <td>GradientBoostingClassifier</td>\n",
       "      <td>0.642973</td>\n",
       "    </tr>\n",
       "    <tr>\n",
       "      <th>3</th>\n",
       "      <td>RandomForestClassifier</td>\n",
       "      <td>0.627093</td>\n",
       "    </tr>\n",
       "    <tr>\n",
       "      <th>1</th>\n",
       "      <td>AdaBoostClassifier</td>\n",
       "      <td>0.617176</td>\n",
       "    </tr>\n",
       "    <tr>\n",
       "      <th>0</th>\n",
       "      <td>KNeighborsClassifier</td>\n",
       "      <td>0.559271</td>\n",
       "    </tr>\n",
       "  </tbody>\n",
       "</table>\n",
       "</div>"
      ],
      "text/plain": [
       "                   Model_Name  F1_Score\n",
       "2  GradientBoostingClassifier  0.642973\n",
       "3      RandomForestClassifier  0.627093\n",
       "1          AdaBoostClassifier  0.617176\n",
       "0        KNeighborsClassifier  0.559271"
      ]
     },
     "execution_count": 70,
     "metadata": {},
     "output_type": "execute_result"
    }
   ],
   "source": [
    "# Compare the models based on F1 scores\n",
    "model_names = ['KNeighborsClassifier', 'AdaBoostClassifier', 'GradientBoostingClassifier', 'RandomForestClassifier']\n",
    "model_comparison = pd.DataFrame({'Model_Name': model_names, 'F1_Score': f1_scores})\n",
    "model_comparison = model_comparison.sort_values(by='F1_Score', ascending=False)\n",
    "\n",
    "print(\"Models Comparison:\")\n",
    "model_comparison"
   ]
  },
  {
   "cell_type": "markdown",
   "id": "d02ed3fc",
   "metadata": {},
   "source": [
    "## Export key components\n",
    "Here is the section to **export** the important ML objects that will be use to develop an app: *Encoder, Scaler, ColumnTransformer, Model, Pipeline, etc*."
   ]
  },
  {
   "cell_type": "code",
   "execution_count": 71,
   "id": "387deea6",
   "metadata": {},
   "outputs": [],
   "source": [
    "# Use pickle : put all your key components in a python dictionary and save it as a file that will be loaded in an app"
   ]
  },
  {
   "cell_type": "code",
   "execution_count": 72,
   "id": "eff4fd49",
   "metadata": {},
   "outputs": [
    {
     "name": "stdout",
     "output_type": "stream",
     "text": [
      "Key components saved as C:/Users/Wycliffe/Desktop/Projects/key_components.pkl\n"
     ]
    }
   ],
   "source": [
    "# Create a dictionary to store the key components\n",
    "key_components = {\n",
    "    'model': model,\n",
    "    'evaluation_results': results,\n",
    "    # Add more key components as needed\n",
    "}\n",
    "\n",
    "# Specify the file path to save the dictionary\n",
    "file_path = 'C:/Users/Wycliffe/Desktop/Projects/key_components.pkl'\n",
    "\n",
    "# Save the dictionary as a file using pickle\n",
    "with open(file_path, 'wb') as file:\n",
    "    pickle.dump(key_components, file)\n",
    "\n",
    "# Print a message to confirm the successful saving of the file\n",
    "print(f\"Key components saved as {file_path}\")"
   ]
  },
  {
   "cell_type": "markdown",
   "id": "813cf347",
   "metadata": {},
   "source": [
    "# Hypothesis Testing"
   ]
  },
  {
   "cell_type": "code",
   "execution_count": 73,
   "id": "c387578f",
   "metadata": {},
   "outputs": [
    {
     "name": "stdout",
     "output_type": "stream",
     "text": [
      "Reject the null hypothesis. There is a significant relationship between SeniorCitizen and Churn.\n",
      "Reject the null hypothesis. There is a significant relationship between Partner and Churn.\n",
      "Reject the null hypothesis. There is a significant relationship between Dependents and Churn.\n",
      "Reject the null hypothesis. There is a significant relationship between tenure and Churn.\n",
      "Fail to reject the null hypothesis. There is no significant relationship between PhoneService and Churn.\n",
      "Reject the null hypothesis. There is a significant relationship between MultipleLines and Churn.\n",
      "Reject the null hypothesis. There is a significant relationship between InternetService and Churn.\n",
      "Reject the null hypothesis. There is a significant relationship between OnlineSecurity and Churn.\n",
      "Reject the null hypothesis. There is a significant relationship between OnlineBackup and Churn.\n",
      "Reject the null hypothesis. There is a significant relationship between DeviceProtection and Churn.\n",
      "Reject the null hypothesis. There is a significant relationship between TechSupport and Churn.\n",
      "Reject the null hypothesis. There is a significant relationship between StreamingTV and Churn.\n",
      "Reject the null hypothesis. There is a significant relationship between StreamingMovies and Churn.\n",
      "Reject the null hypothesis. There is a significant relationship between Contract and Churn.\n",
      "Reject the null hypothesis. There is a significant relationship between PaperlessBilling and Churn.\n",
      "Reject the null hypothesis. There is a significant relationship between PaymentMethod and Churn.\n",
      "Reject the null hypothesis. There is a significant relationship between MonthlyCharges and Churn.\n",
      "Fail to reject the null hypothesis. There is no significant relationship between TotalCharges and Churn.\n",
      "Reject the null hypothesis. There is a significant relationship between Churn and Churn.\n",
      "\n",
      "General Conclusion: There is a significant relationship between at least one customer attribute and Churn.\n"
     ]
    }
   ],
   "source": [
    "\n",
    "import scipy.stats as stats\n",
    "# Select the variables of interest\n",
    "variables_of_interest = ['SeniorCitizen', 'Partner', 'Dependents', 'tenure', 'PhoneService', 'MultipleLines',\n",
    "                         'InternetService', 'OnlineSecurity', 'OnlineBackup', 'DeviceProtection', 'TechSupport',\n",
    "                         'StreamingTV', 'StreamingMovies', 'Contract', 'PaperlessBilling', 'PaymentMethod',\n",
    "                         'MonthlyCharges', 'TotalCharges', 'Churn']\n",
    "\n",
    "# Filter the dataset for the selected variables\n",
    "filtered_df = df[variables_of_interest]\n",
    "\n",
    "# Initialize lists to store the results\n",
    "results = []\n",
    "\n",
    "# Perform hypothesis tests for each variable\n",
    "alpha = 0.05\n",
    "\n",
    "for variable in variables_of_interest:\n",
    "    if filtered_df[variable].dtype == 'object':\n",
    "        # Perform chi-square test of independence for categorical variables\n",
    "        contingency_table = pd.crosstab(filtered_df[variable], filtered_df['Churn'])\n",
    "        chi2, p_value, _, _ = stats.chi2_contingency(contingency_table)\n",
    "        \n",
    "        if p_value < alpha:\n",
    "            result = \"Reject the null hypothesis. There is a significant relationship between \" + variable + \" and Churn.\"\n",
    "        else:\n",
    "            result = \"Fail to reject the null hypothesis. There is no significant relationship between \" + variable + \" and Churn.\"\n",
    "    else:\n",
    "        # Perform t-test for numerical variables\n",
    "        churn_yes = filtered_df[filtered_df['Churn'] == 'Yes'][variable]\n",
    "        churn_no = filtered_df[filtered_df['Churn'] == 'No'][variable]\n",
    "        \n",
    "        t_statistic, p_value = stats.ttest_ind(churn_yes, churn_no)\n",
    "        \n",
    "        if p_value < alpha:\n",
    "            result = \"Reject the null hypothesis. There is a significant relationship between \" + variable + \" and Churn.\"\n",
    "        else:\n",
    "            result = \"Fail to reject the null hypothesis. There is no significant relationship between \" + variable + \" and Churn.\"\n",
    "    \n",
    "    results.append(result)\n",
    "\n",
    "# Generate a general conclusion\n",
    "if any(\"Reject\" in result for result in results):\n",
    "    conclusion = \"There is a significant relationship between at least one customer attribute and Churn.\"\n",
    "else:\n",
    "    conclusion = \"There is no significant relationship between any customer attribute and Churn.\"\n",
    "\n",
    "# Print the results and the general conclusion\n",
    "for result in results:\n",
    "    print(result)\n",
    "\n",
    "print(\"\\nGeneral Conclusion:\", conclusion)\n",
    "\n"
   ]
  },
  {
   "cell_type": "markdown",
   "id": "b65994b8",
   "metadata": {},
   "source": [
    "# Questions\n",
    "                                                                                                                             "
   ]
  },
  {
   "cell_type": "markdown",
   "id": "8c0163e4",
   "metadata": {},
   "source": [
    "### 1. Which are the key contributors of customer churn?"
   ]
  },
  {
   "cell_type": "code",
   "execution_count": 74,
   "id": "feee8637",
   "metadata": {
    "scrolled": true
   },
   "outputs": [
    {
     "data": {
      "image/png": "[encoded data removed]",
      "text/plain": [
       "<Figure size 720x432 with 1 Axes>"
      ]
     },
     "metadata": {
      "needs_background": "light"
     },
     "output_type": "display_data"
    }
   ],
   "source": [
    "# Extract feature importances\n",
    "importances = rf.feature_importances_\n",
    "\n",
    "# Sort features based on importance scores\n",
    "sorted_indices = importances.argsort()[::1]\n",
    "sorted_features = X_train_balanced.columns[sorted_indices]\n",
    "sorted_scores = importances[sorted_indices]\n",
    "\n",
    "# Visualize feature importances\n",
    "plt.figure(figsize=(10, 6))\n",
    "plt.barh(range(len(sorted_features)), sorted_scores, align='center')\n",
    "plt.yticks(range(len(sorted_features)), sorted_features)\n",
    "plt.xlabel('Feature Importance')\n",
    "plt.ylabel('Features')\n",
    "plt.title('Feature Importance Analysis')\n",
    "plt.show()"
   ]
  },
  {
   "cell_type": "markdown",
   "id": "b3b4e2eb",
   "metadata": {},
   "source": [
    "The **top 5 key indicators** of customer churn from this dataset are:\n",
    "1. Tenure \n",
    "2. Monthly Charges\n",
    "3. Fiber optic ISP(Internet Service Provider\n",
    "4. Customers who work for 2 year contracts\n",
    "5. Total Charges"
   ]
  },
  {
   "cell_type": "markdown",
   "id": "80172bf7",
   "metadata": {},
   "source": [
    "### 2.Is there any correlation between the type of internet service provider and customer churn?"
   ]
  },
  {
   "cell_type": "code",
   "execution_count": 83,
   "id": "c62beca1",
   "metadata": {},
   "outputs": [
    {
     "data": {
      "image/png": "[encoded data removed]",
      "text/plain": [
       "<Figure size 432x288 with 1 Axes>"
      ]
     },
     "metadata": {
      "needs_background": "light"
     },
     "output_type": "display_data"
    }
   ],
   "source": [
    "churn_rates=df.groupby('InternetService')['Churn'].value_counts(normalize=True).unstack()\n",
    "churn_rates.plot(kind='barh', stacked=True)\n",
    "plt.xlabel('Churn Rate')\n",
    "plt.ylabel('Internet Service')\n",
    "plt.title('Churn Rate by Internet Service');"
   ]
  },
  {
   "cell_type": "markdown",
   "id": "b45ffe71",
   "metadata": {},
   "source": [
    "More customers who use **fiber optic** as their internet service provider have churned compared to customers from other internet service providers."
   ]
  },
  {
   "cell_type": "markdown",
   "id": "6c758482",
   "metadata": {},
   "source": [
    "### 3. What is the relationship between contract terms and customer churn?"
   ]
  },
  {
   "cell_type": "code",
   "execution_count": 77,
   "id": "0b11d245",
   "metadata": {},
   "outputs": [
    {
     "data": {
      "image/png": "[encoded data removed]",
      "text/plain": [
       "<Figure size 576x432 with 1 Axes>"
      ]
     },
     "metadata": {
      "needs_background": "light"
     },
     "output_type": "display_data"
    }
   ],
   "source": [
    "contract_terms = ['Month-to-month', 'One year', 'Two year']\n",
    "\n",
    "# Filter the dataset for the selected contract terms\n",
    "filtered_df = df[df['Contract'].isin(contract_terms)]\n",
    "\n",
    "colors= ['#FFC107', '#4CAF50']\n",
    "# Create a count plot of customer churn based on contract terms\n",
    "plt.figure(figsize=(8, 6))\n",
    "sns.countplot(x='Contract', hue='Churn', data=filtered_df, palette=colors)\n",
    "plt.xlabel('Contract Terms')\n",
    "plt.ylabel('Count')\n",
    "plt.title('Distribution of Customer Churn by Contract Terms')\n",
    "plt.legend(title='Churn', loc='upper right')\n",
    "plt.show()"
   ]
  },
  {
   "cell_type": "code",
   "execution_count": 78,
   "id": "f7d19a53",
   "metadata": {},
   "outputs": [
    {
     "data": {
      "text/plain": [
       "<Figure size 576x432 with 0 Axes>"
      ]
     },
     "metadata": {},
     "output_type": "display_data"
    },
    {
     "data": {
      "image/png": "[encoded data removed]",
      "text/plain": [
       "<Figure size 432x288 with 1 Axes>"
      ]
     },
     "metadata": {
      "needs_background": "light"
     },
     "output_type": "display_data"
    }
   ],
   "source": [
    "# Select the variables of interest\n",
    "contract_terms = ['Month-to-month', 'One year', 'Two year']\n",
    "\n",
    "# Filter the dataset for the selected contract terms\n",
    "filtered_df = df[df['Contract'].isin(contract_terms)]\n",
    "\n",
    "# Create a cross-tabulation of contract terms and churn\n",
    "cross_tab = pd.crosstab(filtered_df['Contract'], filtered_df['Churn'])\n",
    "\n",
    "# Create a stacked bar plot\n",
    "plt.figure(figsize=(8, 6))\n",
    "cross_tab.plot(kind='bar', stacked=True)\n",
    "plt.xlabel('Contract Terms')\n",
    "plt.ylabel('Count')\n",
    "plt.title('Distribution of Customer Churn by Contract Terms')\n",
    "plt.legend(title='Churn', loc='upper right')\n",
    "plt.xticks(rotation=0)\n",
    "plt.show()"
   ]
  },
  {
   "cell_type": "markdown",
   "id": "f48a9171",
   "metadata": {},
   "source": [
    "From these visualizations, customers with **month-to-month** contract terms churned the most. Thus they are more likely to churn also in the future."
   ]
  },
  {
   "cell_type": "markdown",
   "id": "071a6357",
   "metadata": {},
   "source": [
    "### 4. Which payment method is associated with higher customer churn?"
   ]
  },
  {
   "cell_type": "code",
   "execution_count": 79,
   "id": "07cc68a2",
   "metadata": {},
   "outputs": [
    {
     "data": {
      "image/png": "[encoded data removed]",
      "text/plain": [
       "<Figure size 432x288 with 1 Axes>"
      ]
     },
     "metadata": {
      "needs_background": "light"
     },
     "output_type": "display_data"
    }
   ],
   "source": [
    "churn_rates=df.groupby('PaymentMethod')['Churn'].value_counts(normalize=True).unstack()\n",
    "churn_rates.plot(kind='barh', stacked=False)\n",
    "plt.xlabel('Churn Rate')\n",
    "plt.ylabel('Payment Method')\n",
    "plt.title('Churn Rate by Method of Payment');"
   ]
  },
  {
   "cell_type": "markdown",
   "id": "bbd6c176",
   "metadata": {},
   "source": [
    "customers who have used **Electronic check** have churned the most compared to those who use other payment methods. \n"
   ]
  },
  {
   "cell_type": "markdown",
   "id": "f8e4e090",
   "metadata": {},
   "source": [
    "### 5. How can the organization leverage payment methods, contract terms, and billing preferences to reduce churn?"
   ]
  },
  {
   "cell_type": "markdown",
   "id": "3683e765",
   "metadata": {},
   "source": [
    "1. Offer Flexible Payment Methods: Provide customers with a variety of payment options such as electronic check, mailed check, bank transfer (automatic), and credit card (automatic). This allows customers to choose the payment method that suits them best, increasing convenience and reducing the likelihood of churn due to payment-related issues.\n",
    "\n",
    "2. Incentivize Long-Term Contracts: Encourage customers to sign up for longer contract terms (e.g., one year or two years) by offering benefits such as discounted rates, additional services, or loyalty rewards. Longer contracts provide stability and commitment, making customers less likely to churn.\n",
    "\n",
    "3. Personalize Billing Preferences: Allow customers to choose their billing preferences, such as paperless billing or traditional paper billing. Some customers prefer the convenience of electronic billing, while others may prefer physical copies. By accommodating individual preferences, the organization can enhance customer satisfaction and reduce churn.\n",
    "\n",
    "4. Analyze Customer Behavior and Preferences: Utilize customer data to analyze patterns and identify correlations between payment methods, contract terms, billing preferences, and churn. Look for trends or insights that indicate specific combinations of these factors that are associated with higher or lower churn rates. This analysis can help the organization tailor their retention strategies and target specific customer segments.\n",
    "\n",
    "5. Proactive Retention Strategies: Implement proactive measures to prevent churn. For example, identify customers who are approaching the end of their contract term and offer them incentives to renew or upgrade their services. Additionally, provide personalized offers or promotions to customers who have shown signs of potential churn based on their payment patterns or billing preferences.\n",
    "\n",
    "6. Improve Customer Support: Ensure that customer support services are readily available to address any payment-related concerns or billing inquiries. Prompt and effective resolution of customer issues can help build trust and loyalty, reducing the likelihood of churn.\n",
    "\n",
    "7. Continuous Monitoring and Optimization: Regularly monitor and analyze customer feedback, behavior, and churn rates associated with different payment methods, contract terms, and billing preferences. Continuously optimize and refine the organization's strategies based on the insights gained, aiming to align offerings with customer preferences and needs.\n",
    "\n",
    "By leveraging payment methods, contract terms, and billing preferences in these ways, the organization can enhance customer satisfaction, increase retention rates, and ultimately reduce churn."
   ]
  }
 ],
 "metadata": {
  "kernelspec": {
   "display_name": "Python 3 (ipykernel)",
   "language": "python",
   "name": "python3"
  },
  "language_info": {
   "codemirror_mode": {
    "name": "ipython",
    "version": 3
   },
   "file_extension": ".py",
   "mimetype": "text/x-python",
   "name": "python",
   "nbconvert_exporter": "python",
   "pygments_lexer": "ipython3",
   "version": "3.9.12"
  }
 },
 "nbformat": 4,
 "nbformat_minor": 5
}
